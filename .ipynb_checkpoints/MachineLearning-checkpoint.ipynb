{
 "cells": [
  {
   "cell_type": "markdown",
   "metadata": {},
   "source": [
    "# Machine Learning for House Price Prediction"
   ]
  },
  {
   "cell_type": "markdown",
   "metadata": {},
   "source": [
    "## 1. Import Module"
   ]
  },
  {
   "cell_type": "code",
   "execution_count": 1,
   "metadata": {},
   "outputs": [],
   "source": [
    "import warnings\n",
    "warnings.simplefilter('ignore')\n",
    "\n",
    "import numpy as np\n",
    "import pandas as pd\n",
    "import matplotlib.pyplot as plt\n",
    "import re\n",
    "from importlib import reload\n",
    "\n",
    "from sklearn.model_selection import cross_val_score\n",
    "from sklearn.model_selection import train_test_split\n",
    "from sklearn.model_selection import GridSearchCV\n",
    "from sklearn.metrics import mean_squared_error\n",
    "from sklearn.preprocessing import OneHotEncoder\n",
    "from sklearn.preprocessing import FunctionTransformer\n",
    "from sklearn.pipeline import FeatureUnion\n",
    "from sklearn.pipeline import Pipeline\n",
    "from sklearn.preprocessing import StandardScaler\n",
    "from sklearn.linear_model import LinearRegression\n",
    "\n",
    "%matplotlib inline"
   ]
  },
  {
   "cell_type": "markdown",
   "metadata": {},
   "source": [
    "Import pre-define preprocessing library"
   ]
  },
  {
   "cell_type": "code",
   "execution_count": 2,
   "metadata": {},
   "outputs": [],
   "source": [
    "# For train data missing value preparation\n",
    "from _lib.preprocess import preprocess_missing as prep\n",
    "\n",
    "# To get column info\n",
    "from _lib.preprocess import get_instruction as info\n",
    "\n",
    "# For test data missing value preparation\n",
    "from _lib.preprocess_test import preprocess_missing as prep_test\n",
    "\n",
    "# Function to create kaggle output\n",
    "from _lib.create_output import output"
   ]
  },
  {
   "cell_type": "markdown",
   "metadata": {},
   "source": [
    "## 2. Load Data"
   ]
  },
  {
   "cell_type": "markdown",
   "metadata": {},
   "source": [
    "The data is located at _database/Input. We can use prep function from preprocess.py to take care of all missing values. The reasoning behind the function can be seen at EDA.ipynb"
   ]
  },
  {
   "cell_type": "code",
   "execution_count": 3,
   "metadata": {},
   "outputs": [],
   "source": [
    "# Load the data\n",
    "df = pd.read_csv(\"_database/Input/train.csv\", index_col = 0)\n",
    "\n",
    "# Preprocess missing values\n",
    "df = prep(df)\n",
    "# df = df.drop([1299, 935, 186, 347, 1231, 1183, 692, 955])\n",
    "\n",
    "# Separate input and output variables\n",
    "X_data = df.drop(\"SalePrice\", axis = 1)\n",
    "y = df[\"SalePrice\"]"
   ]
  },
  {
   "cell_type": "markdown",
   "metadata": {},
   "source": [
    "## 3. Polynomial Generator"
   ]
  },
  {
   "cell_type": "markdown",
   "metadata": {},
   "source": [
    "We want to find the optimal model complexity, so we made a polynomial generator. This function takes a 1d or 2d numerical array and generates polynomial features for all variables"
   ]
  },
  {
   "cell_type": "code",
   "execution_count": 4,
   "metadata": {},
   "outputs": [],
   "source": [
    "# Function to generate polynomial features of numerical variables\n",
    "def gen_poly(data, degree):\n",
    "    '''\n",
    "    Input : Vector or matrix \n",
    "    \n",
    "    Return matrix of polynomial for each polynomial degree from 1 to degree calculated on each column\n",
    "    '''\n",
    "    \n",
    "    result = np.concatenate([np.power(data, d) for d in np.arange(1, degree + 1)], axis = 1)\n",
    "    return result"
   ]
  },
  {
   "cell_type": "code",
   "execution_count": 5,
   "metadata": {},
   "outputs": [
    {
     "data": {
      "text/html": [
       "<div>\n",
       "<style scoped>\n",
       "    .dataframe tbody tr th:only-of-type {\n",
       "        vertical-align: middle;\n",
       "    }\n",
       "\n",
       "    .dataframe tbody tr th {\n",
       "        vertical-align: top;\n",
       "    }\n",
       "\n",
       "    .dataframe thead th {\n",
       "        text-align: right;\n",
       "    }\n",
       "</style>\n",
       "<table border=\"1\" class=\"dataframe\">\n",
       "  <thead>\n",
       "    <tr style=\"text-align: right;\">\n",
       "      <th></th>\n",
       "      <th>0</th>\n",
       "      <th>1</th>\n",
       "      <th>2</th>\n",
       "      <th>3</th>\n",
       "      <th>4</th>\n",
       "      <th>5</th>\n",
       "    </tr>\n",
       "  </thead>\n",
       "  <tbody>\n",
       "    <tr>\n",
       "      <th>0</th>\n",
       "      <td>1</td>\n",
       "      <td>10</td>\n",
       "      <td>1</td>\n",
       "      <td>100</td>\n",
       "      <td>1</td>\n",
       "      <td>1000</td>\n",
       "    </tr>\n",
       "    <tr>\n",
       "      <th>1</th>\n",
       "      <td>2</td>\n",
       "      <td>100</td>\n",
       "      <td>4</td>\n",
       "      <td>10000</td>\n",
       "      <td>8</td>\n",
       "      <td>1000000</td>\n",
       "    </tr>\n",
       "    <tr>\n",
       "      <th>2</th>\n",
       "      <td>3</td>\n",
       "      <td>1000</td>\n",
       "      <td>9</td>\n",
       "      <td>1000000</td>\n",
       "      <td>27</td>\n",
       "      <td>1000000000</td>\n",
       "    </tr>\n",
       "  </tbody>\n",
       "</table>\n",
       "</div>"
      ],
      "text/plain": [
       "   0     1  2        3   4           5\n",
       "0  1    10  1      100   1        1000\n",
       "1  2   100  4    10000   8     1000000\n",
       "2  3  1000  9  1000000  27  1000000000"
      ]
     },
     "execution_count": 5,
     "metadata": {},
     "output_type": "execute_result"
    }
   ],
   "source": [
    "# Assertion test\n",
    "test_gen_poly_df = pd.DataFrame({\"col1\": [1,2,3], \"col2\": [10, 100, 1000]})\n",
    "pd.DataFrame(gen_poly(test_gen_poly_df, degree=3))"
   ]
  },
  {
   "cell_type": "markdown",
   "metadata": {},
   "source": [
    "## 4. Pipeline"
   ]
  },
  {
   "cell_type": "markdown",
   "metadata": {},
   "source": [
    "Now we can create pipelines for data preprocessing. First of all, we separated the features into three according to their type. Each type will be handled differently. "
   ]
  },
  {
   "cell_type": "code",
   "execution_count": 6,
   "metadata": {},
   "outputs": [],
   "source": [
    "# DataFrame of all column names with their type\n",
    "df_type = pd.DataFrame({\"Columns\" : X_data.columns, \"Type\" : [str(X_data[col].dtype) for col in X_data.columns]})\n",
    "\n",
    "# Split the columns according to their type\n",
    "num_columns = df_type.loc[(df_type[\"Type\"] == \"int64\") | (df_type[\"Type\"] == \"float64\")][\"Columns\"]  # Numeric\n",
    "cat_columns = df_type.loc[(df_type[\"Type\"] == \"category\")][\"Columns\"]  # Categorical\n",
    "bool_columns = df_type.loc[df_type[\"Type\"] == \"bool\"][\"Columns\"]  # Boolean\n",
    "\n",
    "# Categories in categorical features\n",
    "list_categories = [np.array(info(col)) for col in cat_columns.values]\n",
    "list_categories[14] = np.arange(1, 11)  # Change the category of column 14 and 15 to numerical\n",
    "list_categories[15] = np.arange(1, 11)"
   ]
  },
  {
   "cell_type": "markdown",
   "metadata": {},
   "source": [
    "The pipeline works as follows:\n",
    " 1. Separate the data into three parts: numerical, categorial, and boolean\n",
    " 2. Generate **Polynomial** features for numerical data based on the poly_degree argument\n",
    " 3. Generate **One Hot** variables for categorical data and drop the first column (prevent multicollinearity)\n",
    " 4. Combine the data"
   ]
  },
  {
   "cell_type": "code",
   "execution_count": 7,
   "metadata": {},
   "outputs": [],
   "source": [
    "def poly_reg_pipeline(poly_degree):\n",
    "\n",
    "    get_numerical = FunctionTransformer(lambda x : x[num_columns.values].values, validate = False)\n",
    "\n",
    "    get_category = FunctionTransformer(lambda x : x[cat_columns.values], validate = False)\n",
    "\n",
    "    get_bool = FunctionTransformer(lambda x : x[bool_columns.values].values, validate = False)\n",
    "\n",
    "    generate_poly = FunctionTransformer(lambda x : gen_poly(x, poly_degree), validate = False)\n",
    "\n",
    "    pipeline_num_prep = Pipeline([('selector', get_numerical),\n",
    "                                  ('poly', generate_poly)])\n",
    "\n",
    "    pipeline_cat_prep = Pipeline([('selector', get_category),\n",
    "                                  ('Dummy', OneHotEncoder(drop = 'first', sparse = False,\n",
    "                                                         categories = list_categories))])\n",
    "\n",
    "    transformers = [ ('Numerical', pipeline_num_prep), ('Categorical', pipeline_cat_prep), ('Bool', get_bool) ]\n",
    "\n",
    "    preprocess_union = FeatureUnion(transformer_list = transformers)\n",
    "\n",
    "    pl = Pipeline([\n",
    "        ('union', preprocess_union)\n",
    "\n",
    "    ])\n",
    "    \n",
    "    return pl"
   ]
  },
  {
   "cell_type": "markdown",
   "metadata": {},
   "source": [
    "## 5. Simple Linear Regression"
   ]
  },
  {
   "cell_type": "markdown",
   "metadata": {},
   "source": [
    "For the first quick ML, we use simple Linear Regression. The degree of our polynomial will be 1. We can use this model as our baseline model to compare with another ML models"
   ]
  },
  {
   "cell_type": "markdown",
   "metadata": {},
   "source": [
    "### Transform Input Variables"
   ]
  },
  {
   "cell_type": "code",
   "execution_count": 8,
   "metadata": {},
   "outputs": [],
   "source": [
    "# Create pipeline of polynomial degree 1\n",
    "pl = poly_reg_pipeline(1)\n",
    "\n",
    "# Transform input variable using pipeline\n",
    "X = pl.fit_transform(X_data)\n",
    "\n",
    "# Transform output variable to log scale\n",
    "y = np.log(y)"
   ]
  },
  {
   "cell_type": "markdown",
   "metadata": {},
   "source": [
    "### Train Test Split"
   ]
  },
  {
   "cell_type": "code",
   "execution_count": 9,
   "metadata": {},
   "outputs": [],
   "source": [
    "X_train, X_val, y_train, y_val = train_test_split(X, y, test_size = 0.3, random_state = 45)"
   ]
  },
  {
   "cell_type": "markdown",
   "metadata": {},
   "source": [
    "### Fit the Model"
   ]
  },
  {
   "cell_type": "code",
   "execution_count": 10,
   "metadata": {},
   "outputs": [],
   "source": [
    "# Create Linear Regression model\n",
    "slr = LinearRegression()\n",
    "\n",
    "# Fit the model\n",
    "slr.fit(X_train, y_train)\n",
    "\n",
    "# Make prediction for validation data\n",
    "y_pred = slr.predict(X_val)"
   ]
  },
  {
   "cell_type": "markdown",
   "metadata": {},
   "source": [
    "### MSE"
   ]
  },
  {
   "cell_type": "code",
   "execution_count": 11,
   "metadata": {},
   "outputs": [],
   "source": [
    "def print_mse(estimator, mse):\n",
    "    print(\"The MSE for {} : {}\".format(estimator, mse))\n",
    "    return "
   ]
  },
  {
   "cell_type": "code",
   "execution_count": 12,
   "metadata": {},
   "outputs": [
    {
     "name": "stdout",
     "output_type": "stream",
     "text": [
      "The MSE for Linear Regression : 0.049022804088455614\n"
     ]
    }
   ],
   "source": [
    "print_mse(\"Linear Regression\", mean_squared_error(y_val, y_pred))"
   ]
  },
  {
   "cell_type": "markdown",
   "metadata": {},
   "source": [
    "The $\\text{MSE}$ formula can be given by : \n",
    "\n",
    "$$\\text{MSE} = \\frac{1}{n} \\sum_{i = 1}^{n} (y_{val}^{(i)} - \\hat{y}_{val}^{(i)})^{2} $$\n",
    "\n",
    "with $n = $ length of $y_{val}$\n",
    "\n",
    "Keep in mind that we've transformed $y \\rightarrow log(y)$, so the $\\text{MSE}$ can be that small."
   ]
  },
  {
   "cell_type": "markdown",
   "metadata": {},
   "source": [
    "## 6. Polynomial Regression"
   ]
  },
  {
   "cell_type": "markdown",
   "metadata": {},
   "source": [
    "Next, we want to try fitting the linear regression model with polynomial degree. We use for loop to find the best polynomial degree by looking at the lowest $\\text{MSE}_{val}$"
   ]
  },
  {
   "cell_type": "code",
   "execution_count": 13,
   "metadata": {},
   "outputs": [
    {
     "name": "stdout",
     "output_type": "stream",
     "text": [
      "Polynomial degree 1. Training MSE: 0.00834, Validation MSE: 0.06247\n",
      "Polynomial degree 2. Training MSE: 0.00747, Validation MSE: 3.00688\n",
      "Polynomial degree 3. Training MSE: 0.01027, Validation MSE: 0.02232\n",
      "Polynomial degree 4. Training MSE: 0.13889, Validation MSE: 33.91677\n",
      "Polynomial degree 5. Training MSE: 0.11953, Validation MSE: 0.42743\n",
      "Polynomial degree 6. Training MSE: 0.17546, Validation MSE: 16.6526\n",
      "Polynomial degree 7. Training MSE: 0.07228, Validation MSE: 0.06486\n",
      "Polynomial degree 8. Training MSE: 0.10975, Validation MSE: 0.07866\n",
      "Polynomial degree 9. Training MSE: 0.16095, Validation MSE: 0.15667\n",
      "Polynomial degree 10. Training MSE: 0.31483, Validation MSE: 0.1588\n",
      "Polynomial degree 11. Training MSE: 0.16109, Validation MSE: 0.1572\n",
      "Polynomial degree 12. Training MSE: 0.16194, Validation MSE: 0.1572\n",
      "Polynomial degree 13. Training MSE: 0.33313, Validation MSE: 0.15707\n",
      "Polynomial degree 14. Training MSE: 0.3165, Validation MSE: 0.15693\n",
      "Polynomial degree 15. Training MSE: 0.16313, Validation MSE: 0.1573\n",
      "Polynomial degree 16. Training MSE: 0.1657, Validation MSE: 0.15718\n",
      "Polynomial degree 17. Training MSE: 1.77295, Validation MSE: 0.1567\n",
      "Polynomial degree 18. Training MSE: 0.22828, Validation MSE: 0.15697\n",
      "Polynomial degree 19. Training MSE: 0.17977, Validation MSE: 0.15711\n",
      "Polynomial degree 20. Training MSE: 0.16695, Validation MSE: 0.15718\n"
     ]
    }
   ],
   "source": [
    "degree_max = 20  # Max degree\n",
    "seed = 450\n",
    "msle_list = []\n",
    "msle_train_list = []\n",
    "for i in range(1, degree_max+1):\n",
    "    \n",
    "    # Preprocess data and generates polynomial degree i\n",
    "    pl = poly_reg_pipeline(i)\n",
    "    X = pl.fit_transform(X_data)\n",
    "    \n",
    "    # Split the data\n",
    "    X_train, X_val, y_train, y_val = train_test_split(X, y, test_size = 0.1, random_state = seed)\n",
    "    \n",
    "    # Fit the Linear Regression\n",
    "    plr = LinearRegression()\n",
    "    plr.fit(X_train, y_train)\n",
    "    \n",
    "    # Make prediction for training data\n",
    "    y_train_pred = plr.predict(X_train)\n",
    "    \n",
    "    # Calculate MSE for training data\n",
    "    msle_train = mean_squared_error(y_train, y_train_pred)\n",
    "    msle_train_list.append(msle_train)\n",
    "\n",
    "    # Make prediction for validation data\n",
    "    y_pred = plr.predict(X_val)\n",
    "    \n",
    "    # Calculate MSE for validation data\n",
    "    msle = mean_squared_error(y_val, y_pred)\n",
    "    msle_list.append(msle)\n",
    "    \n",
    "    print(f\"Polynomial degree {i}. Training MSE: {round(msle_train, 5)}, Validation MSE: {round(msle, 5)}\")"
   ]
  },
  {
   "cell_type": "markdown",
   "metadata": {},
   "source": [
    "The polynomial degree 3 seems to be the best result. Note that there is a high variance"
   ]
  },
  {
   "cell_type": "markdown",
   "metadata": {},
   "source": [
    "### Plot MSE Result"
   ]
  },
  {
   "cell_type": "code",
   "execution_count": 14,
   "metadata": {},
   "outputs": [
    {
     "data": {
      "image/png": "[encoded data removed]",
      "text/plain": [
       "<Figure size 864x504 with 1 Axes>"
      ]
     },
     "metadata": {
      "needs_background": "light"
     },
     "output_type": "display_data"
    }
   ],
   "source": [
    "from matplotlib.ticker import MaxNLocator\n",
    "fig, ax = plt.subplots(1, 1, figsize=(12,7))\n",
    "_ = plt.plot(np.arange(1, degree_max+1), msle_train_list)\n",
    "_ = plt.plot(np.arange(1, degree_max+1), msle_list)\n",
    "fig.suptitle('Mean Squared Error', fontsize=20)\n",
    "ax.legend([\"Training MSE\", \"Validation MSE\"])\n",
    "ax.set_ylim(0, 3)\n",
    "_ = plt.xticks(np.arange(1, degree_max+1, 1))"
   ]
  },
  {
   "cell_type": "markdown",
   "metadata": {},
   "source": [
    "From the result, we can see that the lowest three polynomial has the best validatoin MSE."
   ]
  },
  {
   "cell_type": "markdown",
   "metadata": {},
   "source": [
    "## 7. Ridge Regression"
   ]
  },
  {
   "cell_type": "markdown",
   "metadata": {},
   "source": [
    "The linear regression parameters $\\theta$ can be computed by minimizing cost function $J(\\theta)$ with formula :\n",
    "\n",
    "$$J(\\theta) = \\frac{1}{2n} \\sum_{i = 1}^{n} (\\hat{y}^{(i)} - y^{(i)})^{2}$$\n",
    "\n",
    "Ridge regression calculates $\\theta$ by minimizing : \n",
    "\n",
    "$$J(\\theta) = \\frac{1}{2n} \\sum_{i = 1}^{n} (\\hat{y}^{(i)} - y^{(i)})^{2} + \\frac{\\lambda}{2n}\\sum_{j = 1}^{k} \\theta_{k}^{2}$$\n",
    "\n",
    "By adding regularization term , we can reduce the value of $\\theta$. This will result in a **more bias** estimator but it has a **lower variance**."
   ]
  },
  {
   "cell_type": "code",
   "execution_count": 15,
   "metadata": {},
   "outputs": [],
   "source": [
    "from sklearn.linear_model import Ridge"
   ]
  },
  {
   "cell_type": "markdown",
   "metadata": {},
   "source": [
    "### Comparison of the Penalty variable"
   ]
  },
  {
   "cell_type": "markdown",
   "metadata": {},
   "source": [
    "For Ridge and Lasso regression in scikit-learn, there is a regularization parameter $C$. We want to find the best $C$ for our model by comparing several values of $C$ with cross validation"
   ]
  },
  {
   "cell_type": "code",
   "execution_count": 16,
   "metadata": {},
   "outputs": [],
   "source": [
    "alpha_list = np.logspace(-3, 3, 1000)"
   ]
  },
  {
   "cell_type": "code",
   "execution_count": 17,
   "metadata": {},
   "outputs": [],
   "source": [
    "# Fit polynomial regression degree 1, 2, and 3\n",
    "mse_list = []\n",
    "for degree in range(1, 4):\n",
    "    \n",
    "    # Generate polynomial\n",
    "    pl = poly_reg_pipeline(degree)\n",
    "    X = pl.fit_transform(X_data)\n",
    "    \n",
    "    # Split data\n",
    "    X_train, X_val, y_train, y_val = train_test_split(X, y, test_size = 0.1, random_state = 45)\n",
    "\n",
    "    # Initialize mse array\n",
    "    mse = np.zeros(len(alpha_list))\n",
    "    for i in np.arange(len(alpha_list)):\n",
    "        \n",
    "        # Train the model\n",
    "        ml = Ridge(alpha = alpha_list[i])\n",
    "        ml.fit(X_train, y_train)\n",
    "\n",
    "        # Make prediction\n",
    "        y_pred = ml.predict(X_val)\n",
    "\n",
    "        # Calculate MSE\n",
    "        mse[i] = mean_squared_error(y_val, y_pred)\n",
    "    \n",
    "    mse_list.append(mse)"
   ]
  },
  {
   "cell_type": "code",
   "execution_count": 18,
   "metadata": {
    "scrolled": false
   },
   "outputs": [
    {
     "data": {
      "text/plain": [
       "<matplotlib.legend.Legend at 0x7ff60073bc10>"
      ]
     },
     "execution_count": 18,
     "metadata": {},
     "output_type": "execute_result"
    },
    {
     "data": {
      "image/png": "[encoded data removed]",
      "text/plain": [
       "<Figure size 720x432 with 1 Axes>"
      ]
     },
     "metadata": {
      "needs_background": "light"
     },
     "output_type": "display_data"
    }
   ],
   "source": [
    "fig, ax = plt.subplots(1, 1, figsize=(10,6))\n",
    "for i in range(3):\n",
    "    ax.plot(alpha_list, mse_list[i])\n",
    "ax.set_ylabel(\"MSE\")\n",
    "ax.set_xlabel(\"C\")\n",
    "ax.set_title(\"Plot of C vs. MSE\")\n",
    "plt.legend([\"Degree 1\", \"Degree 2\", \"Degree 3\"])"
   ]
  },
  {
   "cell_type": "code",
   "execution_count": 19,
   "metadata": {
    "scrolled": false
   },
   "outputs": [
    {
     "data": {
      "text/plain": [
       "<matplotlib.legend.Legend at 0x7ff622cb8430>"
      ]
     },
     "execution_count": 19,
     "metadata": {},
     "output_type": "execute_result"
    },
    {
     "data": {
      "image/png": "[encoded data removed]",
      "text/plain": [
       "<Figure size 720x432 with 1 Axes>"
      ]
     },
     "metadata": {
      "needs_background": "light"
     },
     "output_type": "display_data"
    }
   ],
   "source": [
    "fig, ax = plt.subplots(1, 1, figsize=(10,6))\n",
    "for i in range(3):\n",
    "    ax.plot(alpha_list, mse_list[i])\n",
    "ax.set_ylabel(\"MSE\")\n",
    "ax.set_xlabel(\"C\")\n",
    "ax.set_title(\"Plot of C vs. MSE\")\n",
    "ax.set_xlim(-0.1, 2)\n",
    "plt.legend([\"Degree 1\", \"Degree 2\", \"Degree 3\"])"
   ]
  },
  {
   "cell_type": "code",
   "execution_count": 20,
   "metadata": {},
   "outputs": [
    {
     "data": {
      "text/plain": [
       "<matplotlib.legend.Legend at 0x7ff622bb9280>"
      ]
     },
     "execution_count": 20,
     "metadata": {},
     "output_type": "execute_result"
    },
    {
     "data": {
      "image/png": "[encoded data removed]",
      "text/plain": [
       "<Figure size 720x432 with 1 Axes>"
      ]
     },
     "metadata": {
      "needs_background": "light"
     },
     "output_type": "display_data"
    }
   ],
   "source": [
    "fig, ax = plt.subplots(1, 1, figsize=(10,6))\n",
    "for i in range(3):\n",
    "    ax.plot(alpha_list, mse_list[i])\n",
    "ax.set_ylabel(\"MSE\")\n",
    "ax.set_xlabel(\"C\")\n",
    "ax.set_title(\"Plot of C vs. MSE\")\n",
    "ax.set_xlim(-0.1, 0.5)\n",
    "plt.legend([\"Degree 1\", \"Degree 2\", \"Degree 3\"])"
   ]
  },
  {
   "cell_type": "markdown",
   "metadata": {},
   "source": [
    "The polynomial degree 1 has the best MSE."
   ]
  },
  {
   "cell_type": "markdown",
   "metadata": {},
   "source": [
    "### Cross Validation Search"
   ]
  },
  {
   "cell_type": "markdown",
   "metadata": {},
   "source": [
    "Now we know the range of penalty value, we can find the best $C$ using the function GridSearchCV"
   ]
  },
  {
   "cell_type": "code",
   "execution_count": 21,
   "metadata": {},
   "outputs": [],
   "source": [
    "alpha_list = np.logspace(-3, -1, 50)\n",
    "params = {'alpha' : alpha_list}"
   ]
  },
  {
   "cell_type": "code",
   "execution_count": 22,
   "metadata": {},
   "outputs": [],
   "source": [
    "def fit_and_search_params(max_degree, estimator, params, verbose=False):\n",
    "\n",
    "    # Fit polynomial regression degree\n",
    "    mse = np.zeros(max_degree)\n",
    "    for degree in range(1, max_degree+1):\n",
    "        \n",
    "        if verbose:\n",
    "            print(f\"Working on degree {degree}\")\n",
    "\n",
    "        # Generate polynomial\n",
    "        pl = poly_reg_pipeline(degree)\n",
    "        X = pl.fit_transform(X_data)\n",
    "\n",
    "        # Split data\n",
    "        X_train, X_val, y_train, y_val = train_test_split(X, y, test_size = 0.1, random_state = 45)\n",
    "\n",
    "        # Wrap model\n",
    "        ml = estimator()\n",
    "        cv = GridSearchCV(ml, param_grid = params, cv = 10)\n",
    "\n",
    "        # Train model\n",
    "        cv.fit(X_train, y_train)\n",
    "\n",
    "        # Extract best estimator\n",
    "        ml = cv.best_estimator_\n",
    "\n",
    "        # Make prediction\n",
    "        y_pred = ml.predict(X_val)\n",
    "\n",
    "        # Calculate MSE\n",
    "        mse[degree-1] = mean_squared_error(y_val, y_pred)\n",
    "\n",
    "    \n",
    "    return mse"
   ]
  },
  {
   "cell_type": "code",
   "execution_count": 23,
   "metadata": {
    "scrolled": true
   },
   "outputs": [
    {
     "name": "stdout",
     "output_type": "stream",
     "text": [
      "The MSE for Ridge Regression of degree 1: 0.02089443687632767\n",
      "The MSE for Ridge Regression of degree 2: 0.024664354952012503\n",
      "The MSE for Ridge Regression of degree 3: 0.022857192583489477\n"
     ]
    }
   ],
   "source": [
    "max_degree = 3\n",
    "mse = fit_and_search_params(max_degree, Ridge, params)\n",
    "for deg in range(max_degree):\n",
    "    print(f\"The MSE for Ridge Regression of degree {deg+1}: {mse[deg]}\")"
   ]
  },
  {
   "cell_type": "markdown",
   "metadata": {},
   "source": [
    "The results are better than the linear regression, one of the reason is we have a huge number of features. Even though we didn't use polynomial, we still suffer from high variance which can be fixed by using ridge regression. Also, the best polynomial degree is still 1"
   ]
  },
  {
   "cell_type": "markdown",
   "metadata": {},
   "source": [
    "## 8. Lasso Regression"
   ]
  },
  {
   "cell_type": "markdown",
   "metadata": {},
   "source": [
    "Lasso regression find the parameter $\\theta$ by minimizing :\n",
    "\n",
    "$$J(\\theta) = \\frac{1}{2n} \\sum_{i = 1}^{n} (\\hat{y}^{(i)} - y^{(i)})^{2} + \\frac{\\lambda}{2n}\\sum_{j = 1}^{k} |\\theta_{k}|$$\n",
    "\n",
    "The difference between lasso and ridge is lasso allows the parameter to be 0, so it can also perform feature selection"
   ]
  },
  {
   "cell_type": "code",
   "execution_count": 24,
   "metadata": {},
   "outputs": [],
   "source": [
    "from sklearn.linear_model import Lasso"
   ]
  },
  {
   "cell_type": "code",
   "execution_count": 25,
   "metadata": {
    "scrolled": false
   },
   "outputs": [
    {
     "name": "stdout",
     "output_type": "stream",
     "text": [
      "Working on degree 1\n",
      "Working on degree 2\n",
      "Working on degree 3\n",
      "The MSE for Ridge Regression of degree 1: 0.023344758001873616\n",
      "The MSE for Ridge Regression of degree 2: 0.022939554696539816\n",
      "The MSE for Ridge Regression of degree 3: 0.02524790779969901\n"
     ]
    }
   ],
   "source": [
    "mse = fit_and_search_params(3, Lasso, params, verbose=True)\n",
    "for deg in range(max_degree):\n",
    "    print(f\"The MSE for Ridge Regression of degree {deg+1}: {mse[deg]}\")"
   ]
  },
  {
   "cell_type": "markdown",
   "metadata": {},
   "source": [
    "The result is slightly worse than ridge regression"
   ]
  },
  {
   "cell_type": "markdown",
   "metadata": {},
   "source": [
    "## 9. Decision Tree and Random Forest"
   ]
  },
  {
   "cell_type": "markdown",
   "metadata": {},
   "source": [
    "We also tried using tree estimator. Decision tree is the simple tree estimator while random forest is aggregation of multiple simple decision trees"
   ]
  },
  {
   "cell_type": "code",
   "execution_count": 26,
   "metadata": {},
   "outputs": [],
   "source": [
    "from sklearn.tree import DecisionTreeRegressor\n",
    "from sklearn.ensemble import RandomForestRegressor"
   ]
  },
  {
   "cell_type": "code",
   "execution_count": 27,
   "metadata": {},
   "outputs": [
    {
     "data": {
      "text/plain": [
       "DecisionTreeRegressor()"
      ]
     },
     "execution_count": 27,
     "metadata": {},
     "output_type": "execute_result"
    }
   ],
   "source": [
    "DecisionTreeRegressor()"
   ]
  },
  {
   "cell_type": "code",
   "execution_count": 28,
   "metadata": {},
   "outputs": [
    {
     "data": {
      "text/plain": [
       "RandomForestRegressor()"
      ]
     },
     "execution_count": 28,
     "metadata": {},
     "output_type": "execute_result"
    }
   ],
   "source": [
    "RandomForestRegressor()"
   ]
  },
  {
   "cell_type": "code",
   "execution_count": 29,
   "metadata": {},
   "outputs": [],
   "source": [
    "params_dt = {'min_samples_leaf' : np.linspace(0.1, 1, 50),\n",
    "             'max_depth' : np.linspace(1, 300, 100)}"
   ]
  },
  {
   "cell_type": "code",
   "execution_count": 30,
   "metadata": {},
   "outputs": [
    {
     "name": "stdout",
     "output_type": "stream",
     "text": [
      "The MSE for Decision Tree of polynomial degree 1: 0.07034692100868473\n",
      "The MSE for Decision Tree of polynomial degree 2: 0.07034692100868471\n",
      "The MSE for Decision Tree of polynomial degree 3: 0.07034692100868492\n"
     ]
    }
   ],
   "source": [
    "mse = fit_and_search_params(3, DecisionTreeRegressor, params_dt)\n",
    "for deg in range(max_degree):\n",
    "    print(f\"The MSE for Decision Tree of polynomial degree {deg+1}: {mse[deg]}\")"
   ]
  },
  {
   "cell_type": "markdown",
   "metadata": {},
   "source": [
    "The best parameter for Decision tree has higher $\\text{MSE}$ than lasso"
   ]
  },
  {
   "cell_type": "code",
   "execution_count": 31,
   "metadata": {},
   "outputs": [],
   "source": [
    "params_rf = {'min_samples_leaf' : np.linspace(0.0001, 0.001, 10),\n",
    "         'max_depth' : np.linspace(130, 140, 5),\n",
    "         'n_estimators' : np.arange(33, 39)}"
   ]
  },
  {
   "cell_type": "code",
   "execution_count": 32,
   "metadata": {},
   "outputs": [
    {
     "name": "stdout",
     "output_type": "stream",
     "text": [
      "The MSE for Random Forest of polynomial degree 1: 0.028165399244836145\n",
      "The MSE for Random Forest of polynomial degree 2: 0.027241516532797137\n",
      "The MSE for Random Forest of polynomial degree 3: 0.028754921350821108\n"
     ]
    }
   ],
   "source": [
    "mse = fit_and_search_params(3, RandomForestRegressor, params_rf)\n",
    "for deg in range(max_degree):\n",
    "    print(f\"The MSE for Random Forest of polynomial degree {deg+1}: {mse[deg]}\")"
   ]
  },
  {
   "cell_type": "markdown",
   "metadata": {},
   "source": [
    " "
   ]
  },
  {
   "cell_type": "markdown",
   "metadata": {},
   "source": [
    "Comparing the $\\text{MSE}$ of our models, we choose Ridge regression as our machine learning model to predict log house price sales since it has the lowest validation $\\text{MSE}$."
   ]
  },
  {
   "cell_type": "markdown",
   "metadata": {},
   "source": [
    "## 10. Prediction"
   ]
  },
  {
   "cell_type": "markdown",
   "metadata": {},
   "source": [
    "### Load Test Data"
   ]
  },
  {
   "cell_type": "code",
   "execution_count": 64,
   "metadata": {},
   "outputs": [],
   "source": [
    "test = pd.read_csv(\"_database/Input/test.csv\", index_col = 0)\n",
    "test_index = test.index"
   ]
  },
  {
   "cell_type": "markdown",
   "metadata": {},
   "source": [
    "### Preprocess Test Data"
   ]
  },
  {
   "cell_type": "code",
   "execution_count": 65,
   "metadata": {},
   "outputs": [],
   "source": [
    "X_test = prep_test(test)"
   ]
  },
  {
   "cell_type": "markdown",
   "metadata": {},
   "source": [
    "### Fit Model"
   ]
  },
  {
   "cell_type": "code",
   "execution_count": 66,
   "metadata": {},
   "outputs": [],
   "source": [
    "ml = Ridge() # our choice of model"
   ]
  },
  {
   "cell_type": "markdown",
   "metadata": {},
   "source": [
    "Now, we're using all of our training data to fit the model, so we need to retune the hyperparameter $C$ using all of our training data. "
   ]
  },
  {
   "cell_type": "code",
   "execution_count": 67,
   "metadata": {
    "scrolled": false
   },
   "outputs": [],
   "source": [
    "# Generate polynomial\n",
    "pl = poly_reg_pipeline(1)\n",
    "X = pl.fit_transform(X_data)\n",
    "X_test = pl.fit_transform(X_test)\n",
    "\n",
    "params = {'alpha' : alpha_list} # using the alpha_list defined earlier\n",
    "cv = GridSearchCV(ml, param_grid = params, cv = 10)"
   ]
  },
  {
   "cell_type": "code",
   "execution_count": 68,
   "metadata": {},
   "outputs": [
    {
     "data": {
      "text/plain": [
       "GridSearchCV(cv=10, estimator=Ridge(),\n",
       "             param_grid={'alpha': array([0.001     , 0.00109854, 0.00120679, 0.00132571, 0.00145635,\n",
       "       0.00159986, 0.00175751, 0.0019307 , 0.00212095, 0.00232995,\n",
       "       0.00255955, 0.00281177, 0.00308884, 0.00339322, 0.00372759,\n",
       "       0.00409492, 0.00449843, 0.00494171, 0.00542868, 0.00596362,\n",
       "       0.00655129, 0.00719686, 0.00790604, 0.00868511, 0.00954095,\n",
       "       0.01048113, 0.01151395, 0.01264855, 0.01389495, 0.01526418,\n",
       "       0.01676833, 0.0184207 , 0.0202359 , 0.02222996, 0.02442053,\n",
       "       0.02682696, 0.02947052, 0.03237458, 0.0355648 , 0.0390694 ,\n",
       "       0.04291934, 0.04714866, 0.05179475, 0.05689866, 0.06250552,\n",
       "       0.06866488, 0.0754312 , 0.08286428, 0.09102982, 0.1       ])})"
      ]
     },
     "execution_count": 68,
     "metadata": {},
     "output_type": "execute_result"
    }
   ],
   "source": [
    "cv.fit(X, y) # using full training data"
   ]
  },
  {
   "cell_type": "code",
   "execution_count": 69,
   "metadata": {},
   "outputs": [],
   "source": [
    "ml = cv.best_estimator_"
   ]
  },
  {
   "cell_type": "code",
   "execution_count": 71,
   "metadata": {},
   "outputs": [],
   "source": [
    "# Since we first use log to transform y, we need to restore it using exp\n",
    "y_pred = np.exp(ml.predict(X_test))"
   ]
  },
  {
   "cell_type": "markdown",
   "metadata": {},
   "source": [
    "Using our module to create output, we made csv files in the output folder that contains our prediction of house prices"
   ]
  },
  {
   "cell_type": "code",
   "execution_count": 72,
   "metadata": {},
   "outputs": [
    {
     "name": "stdout",
     "output_type": "stream",
     "text": [
      "Enter a filename : results.csv\n",
      "results.csv.csv was generated\n"
     ]
    }
   ],
   "source": [
    "output(y_pred)"
   ]
  }
 ],
 "metadata": {
  "kernelspec": {
   "display_name": "Python 3",
   "language": "python",
   "name": "python3"
  },
  "language_info": {
   "codemirror_mode": {
    "name": "ipython",
    "version": 3
   },
   "file_extension": ".py",
   "mimetype": "text/x-python",
   "name": "python",
   "nbconvert_exporter": "python",
   "pygments_lexer": "ipython3",
   "version": "3.8.5"
  }
 },
 "nbformat": 4,
 "nbformat_minor": 2
}
