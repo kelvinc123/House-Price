{
 "cells": [
  {
   "cell_type": "code",
   "execution_count": 1,
   "metadata": {},
   "outputs": [],
   "source": [
    "import pandas as pd\n",
    "import numpy as np\n",
    "import matplotlib.pyplot as plt\n",
    "import seaborn as sns\n",
    "import os\n",
    "\n",
    "from _lib.preprocess import preprocess_missing as prep\n",
    "from _lib.preprocess import get_instruction as info\n",
    "\n",
    "from sklearn.preprocessing import OneHotEncoder"
   ]
  },
  {
   "cell_type": "code",
   "execution_count": 4,
   "metadata": {},
   "outputs": [],
   "source": [
    "plt.style.use(\"seaborn\")"
   ]
  },
  {
   "cell_type": "code",
   "execution_count": 5,
   "metadata": {},
   "outputs": [],
   "source": [
    "df = pd.read_csv(\"_database/Input/train.csv\", index_col = 0)"
   ]
  },
  {
   "cell_type": "code",
   "execution_count": 6,
   "metadata": {},
   "outputs": [
    {
     "data": {
      "text/html": [
       "<div>\n",
       "<style scoped>\n",
       "    .dataframe tbody tr th:only-of-type {\n",
       "        vertical-align: middle;\n",
       "    }\n",
       "\n",
       "    .dataframe tbody tr th {\n",
       "        vertical-align: top;\n",
       "    }\n",
       "\n",
       "    .dataframe thead th {\n",
       "        text-align: right;\n",
       "    }\n",
       "</style>\n",
       "<table border=\"1\" class=\"dataframe\">\n",
       "  <thead>\n",
       "    <tr style=\"text-align: right;\">\n",
       "      <th></th>\n",
       "      <th>MSSubClass</th>\n",
       "      <th>MSZoning</th>\n",
       "      <th>LotFrontage</th>\n",
       "      <th>LotArea</th>\n",
       "      <th>Street</th>\n",
       "      <th>Alley</th>\n",
       "      <th>LotShape</th>\n",
       "      <th>LandContour</th>\n",
       "      <th>Utilities</th>\n",
       "      <th>LotConfig</th>\n",
       "      <th>...</th>\n",
       "      <th>PoolArea</th>\n",
       "      <th>PoolQC</th>\n",
       "      <th>Fence</th>\n",
       "      <th>MiscFeature</th>\n",
       "      <th>MiscVal</th>\n",
       "      <th>MoSold</th>\n",
       "      <th>YrSold</th>\n",
       "      <th>SaleType</th>\n",
       "      <th>SaleCondition</th>\n",
       "      <th>SalePrice</th>\n",
       "    </tr>\n",
       "    <tr>\n",
       "      <th>Id</th>\n",
       "      <th></th>\n",
       "      <th></th>\n",
       "      <th></th>\n",
       "      <th></th>\n",
       "      <th></th>\n",
       "      <th></th>\n",
       "      <th></th>\n",
       "      <th></th>\n",
       "      <th></th>\n",
       "      <th></th>\n",
       "      <th></th>\n",
       "      <th></th>\n",
       "      <th></th>\n",
       "      <th></th>\n",
       "      <th></th>\n",
       "      <th></th>\n",
       "      <th></th>\n",
       "      <th></th>\n",
       "      <th></th>\n",
       "      <th></th>\n",
       "      <th></th>\n",
       "    </tr>\n",
       "  </thead>\n",
       "  <tbody>\n",
       "    <tr>\n",
       "      <td>1</td>\n",
       "      <td>60</td>\n",
       "      <td>RL</td>\n",
       "      <td>65.0</td>\n",
       "      <td>8450</td>\n",
       "      <td>Pave</td>\n",
       "      <td>NaN</td>\n",
       "      <td>Reg</td>\n",
       "      <td>Lvl</td>\n",
       "      <td>AllPub</td>\n",
       "      <td>Inside</td>\n",
       "      <td>...</td>\n",
       "      <td>0</td>\n",
       "      <td>NaN</td>\n",
       "      <td>NaN</td>\n",
       "      <td>NaN</td>\n",
       "      <td>0</td>\n",
       "      <td>2</td>\n",
       "      <td>2008</td>\n",
       "      <td>WD</td>\n",
       "      <td>Normal</td>\n",
       "      <td>208500</td>\n",
       "    </tr>\n",
       "    <tr>\n",
       "      <td>2</td>\n",
       "      <td>20</td>\n",
       "      <td>RL</td>\n",
       "      <td>80.0</td>\n",
       "      <td>9600</td>\n",
       "      <td>Pave</td>\n",
       "      <td>NaN</td>\n",
       "      <td>Reg</td>\n",
       "      <td>Lvl</td>\n",
       "      <td>AllPub</td>\n",
       "      <td>FR2</td>\n",
       "      <td>...</td>\n",
       "      <td>0</td>\n",
       "      <td>NaN</td>\n",
       "      <td>NaN</td>\n",
       "      <td>NaN</td>\n",
       "      <td>0</td>\n",
       "      <td>5</td>\n",
       "      <td>2007</td>\n",
       "      <td>WD</td>\n",
       "      <td>Normal</td>\n",
       "      <td>181500</td>\n",
       "    </tr>\n",
       "    <tr>\n",
       "      <td>3</td>\n",
       "      <td>60</td>\n",
       "      <td>RL</td>\n",
       "      <td>68.0</td>\n",
       "      <td>11250</td>\n",
       "      <td>Pave</td>\n",
       "      <td>NaN</td>\n",
       "      <td>IR1</td>\n",
       "      <td>Lvl</td>\n",
       "      <td>AllPub</td>\n",
       "      <td>Inside</td>\n",
       "      <td>...</td>\n",
       "      <td>0</td>\n",
       "      <td>NaN</td>\n",
       "      <td>NaN</td>\n",
       "      <td>NaN</td>\n",
       "      <td>0</td>\n",
       "      <td>9</td>\n",
       "      <td>2008</td>\n",
       "      <td>WD</td>\n",
       "      <td>Normal</td>\n",
       "      <td>223500</td>\n",
       "    </tr>\n",
       "    <tr>\n",
       "      <td>4</td>\n",
       "      <td>70</td>\n",
       "      <td>RL</td>\n",
       "      <td>60.0</td>\n",
       "      <td>9550</td>\n",
       "      <td>Pave</td>\n",
       "      <td>NaN</td>\n",
       "      <td>IR1</td>\n",
       "      <td>Lvl</td>\n",
       "      <td>AllPub</td>\n",
       "      <td>Corner</td>\n",
       "      <td>...</td>\n",
       "      <td>0</td>\n",
       "      <td>NaN</td>\n",
       "      <td>NaN</td>\n",
       "      <td>NaN</td>\n",
       "      <td>0</td>\n",
       "      <td>2</td>\n",
       "      <td>2006</td>\n",
       "      <td>WD</td>\n",
       "      <td>Abnorml</td>\n",
       "      <td>140000</td>\n",
       "    </tr>\n",
       "    <tr>\n",
       "      <td>5</td>\n",
       "      <td>60</td>\n",
       "      <td>RL</td>\n",
       "      <td>84.0</td>\n",
       "      <td>14260</td>\n",
       "      <td>Pave</td>\n",
       "      <td>NaN</td>\n",
       "      <td>IR1</td>\n",
       "      <td>Lvl</td>\n",
       "      <td>AllPub</td>\n",
       "      <td>FR2</td>\n",
       "      <td>...</td>\n",
       "      <td>0</td>\n",
       "      <td>NaN</td>\n",
       "      <td>NaN</td>\n",
       "      <td>NaN</td>\n",
       "      <td>0</td>\n",
       "      <td>12</td>\n",
       "      <td>2008</td>\n",
       "      <td>WD</td>\n",
       "      <td>Normal</td>\n",
       "      <td>250000</td>\n",
       "    </tr>\n",
       "  </tbody>\n",
       "</table>\n",
       "<p>5 rows × 80 columns</p>\n",
       "</div>"
      ],
      "text/plain": [
       "    MSSubClass MSZoning  LotFrontage  LotArea Street Alley LotShape  \\\n",
       "Id                                                                    \n",
       "1           60       RL         65.0     8450   Pave   NaN      Reg   \n",
       "2           20       RL         80.0     9600   Pave   NaN      Reg   \n",
       "3           60       RL         68.0    11250   Pave   NaN      IR1   \n",
       "4           70       RL         60.0     9550   Pave   NaN      IR1   \n",
       "5           60       RL         84.0    14260   Pave   NaN      IR1   \n",
       "\n",
       "   LandContour Utilities LotConfig  ... PoolArea PoolQC Fence MiscFeature  \\\n",
       "Id                                  ...                                     \n",
       "1          Lvl    AllPub    Inside  ...        0    NaN   NaN         NaN   \n",
       "2          Lvl    AllPub       FR2  ...        0    NaN   NaN         NaN   \n",
       "3          Lvl    AllPub    Inside  ...        0    NaN   NaN         NaN   \n",
       "4          Lvl    AllPub    Corner  ...        0    NaN   NaN         NaN   \n",
       "5          Lvl    AllPub       FR2  ...        0    NaN   NaN         NaN   \n",
       "\n",
       "   MiscVal MoSold  YrSold  SaleType  SaleCondition  SalePrice  \n",
       "Id                                                             \n",
       "1        0      2    2008        WD         Normal     208500  \n",
       "2        0      5    2007        WD         Normal     181500  \n",
       "3        0      9    2008        WD         Normal     223500  \n",
       "4        0      2    2006        WD        Abnorml     140000  \n",
       "5        0     12    2008        WD         Normal     250000  \n",
       "\n",
       "[5 rows x 80 columns]"
      ]
     },
     "execution_count": 6,
     "metadata": {},
     "output_type": "execute_result"
    }
   ],
   "source": [
    "df.head()"
   ]
  },
  {
   "cell_type": "code",
   "execution_count": 7,
   "metadata": {},
   "outputs": [
    {
     "name": "stderr",
     "output_type": "stream",
     "text": [
      "/Users/kelvinchristian/opt/anaconda3/lib/python3.7/site-packages/pandas/core/indexing.py:494: SettingWithCopyWarning: \n",
      "A value is trying to be set on a copy of a slice from a DataFrame.\n",
      "Try using .loc[row_indexer,col_indexer] = value instead\n",
      "\n",
      "See the caveats in the documentation: http://pandas.pydata.org/pandas-docs/stable/user_guide/indexing.html#returning-a-view-versus-a-copy\n",
      "  self.obj[item] = s\n"
     ]
    }
   ],
   "source": [
    "df = prep(df)"
   ]
  },
  {
   "cell_type": "code",
   "execution_count": 8,
   "metadata": {
    "scrolled": true
   },
   "outputs": [
    {
     "name": "stdout",
     "output_type": "stream",
     "text": [
      "<class 'pandas.core.frame.DataFrame'>\n",
      "Int64Index: 1457 entries, 1 to 1460\n",
      "Data columns (total 80 columns):\n",
      "MSSubClass       1457 non-null category\n",
      "MSZoning         1457 non-null category\n",
      "LotFrontage      1457 non-null float64\n",
      "LotArea          1457 non-null int64\n",
      "Street           1457 non-null category\n",
      "Alley            1457 non-null category\n",
      "LotShape         1457 non-null category\n",
      "LandContour      1457 non-null category\n",
      "Utilities        1457 non-null category\n",
      "LotConfig        1457 non-null category\n",
      "LandSlope        1457 non-null category\n",
      "Neighborhood     1457 non-null category\n",
      "Condition1       1457 non-null category\n",
      "Condition2       1457 non-null category\n",
      "BldgType         1457 non-null category\n",
      "HouseStyle       1457 non-null category\n",
      "OverallQual      1457 non-null category\n",
      "OverallCond      1457 non-null category\n",
      "YearBuilt        1457 non-null int64\n",
      "YearRemodAdd     1457 non-null int64\n",
      "RoofStyle        1457 non-null category\n",
      "RoofMatl         1457 non-null category\n",
      "Exterior1st      1457 non-null category\n",
      "Exterior2nd      1457 non-null category\n",
      "MasVnrType       1457 non-null category\n",
      "MasVnrArea       1457 non-null float64\n",
      "ExterQual        1457 non-null category\n",
      "ExterCond        1457 non-null category\n",
      "Foundation       1457 non-null category\n",
      "BsmtQual         1457 non-null category\n",
      "BsmtCond         1457 non-null category\n",
      "BsmtExposure     1457 non-null category\n",
      "BsmtFinType1     1457 non-null category\n",
      "BsmtFinSF1       1457 non-null int64\n",
      "BsmtFinType2     1457 non-null category\n",
      "BsmtFinSF2       1457 non-null int64\n",
      "BsmtUnfSF        1457 non-null int64\n",
      "TotalBsmtSF      1457 non-null int64\n",
      "Heating          1457 non-null category\n",
      "HeatingQC        1457 non-null category\n",
      "CentralAir       1457 non-null category\n",
      "Electrical       1457 non-null category\n",
      "1stFlrSF         1457 non-null int64\n",
      "2ndFlrSF         1457 non-null int64\n",
      "LowQualFinSF     1457 non-null int64\n",
      "GrLivArea        1457 non-null int64\n",
      "BsmtFullBath     1457 non-null int64\n",
      "BsmtHalfBath     1457 non-null int64\n",
      "FullBath         1457 non-null int64\n",
      "HalfBath         1457 non-null int64\n",
      "BedroomAbvGr     1457 non-null int64\n",
      "KitchenAbvGr     1457 non-null int64\n",
      "KitchenQual      1457 non-null category\n",
      "TotRmsAbvGrd     1457 non-null int64\n",
      "Functional       1457 non-null category\n",
      "Fireplaces       1457 non-null int64\n",
      "FireplaceQu      1457 non-null category\n",
      "GarageType       1457 non-null category\n",
      "GarageYrBlt      1457 non-null int64\n",
      "GarageFinish     1457 non-null category\n",
      "GarageCars       1457 non-null int64\n",
      "GarageArea       1457 non-null int64\n",
      "GarageQual       1457 non-null category\n",
      "GarageCond       1457 non-null category\n",
      "PavedDrive       1457 non-null category\n",
      "WoodDeckSF       1457 non-null int64\n",
      "OpenPorchSF      1457 non-null int64\n",
      "EnclosedPorch    1457 non-null int64\n",
      "3SsnPorch        1457 non-null int64\n",
      "ScreenPorch      1457 non-null int64\n",
      "PoolArea         1457 non-null int64\n",
      "PoolQC           1457 non-null category\n",
      "Fence            1457 non-null category\n",
      "MiscFeature      1457 non-null category\n",
      "MiscVal          1457 non-null int64\n",
      "MoSold           1457 non-null int64\n",
      "YrSold           1457 non-null int64\n",
      "SaleType         1457 non-null category\n",
      "SaleCondition    1457 non-null category\n",
      "SalePrice        1457 non-null int64\n",
      "dtypes: category(46), float64(2), int64(32)\n",
      "memory usage: 476.5 KB\n"
     ]
    }
   ],
   "source": [
    "df.info()"
   ]
  },
  {
   "cell_type": "code",
   "execution_count": 9,
   "metadata": {},
   "outputs": [],
   "source": [
    "def ecdf(values):\n",
    "    x = np.sort(values)\n",
    "    y = np.arange(1, len(x)+1) / len(x)\n",
    "    return x, y"
   ]
  },
  {
   "cell_type": "code",
   "execution_count": 10,
   "metadata": {},
   "outputs": [],
   "source": [
    "def ecdf_compare(values, dist):\n",
    "\n",
    "    x_data, y_data = ecdf(values)\n",
    "    x_theory, y_theory = ecdf(dist)\n",
    "    \n",
    "    _ = plt.plot(x_data, y_data, marker = \".\", linestyle = \"none\", label = \"Data\")\n",
    "    _ = plt.plot(x_theory, y_theory, color = \"orange\", label = \"Theory\")\n",
    "    _ = plt.xlabel(\"Values\")\n",
    "    _ = plt.ylabel(\"CDF\")\n",
    "    plt.legend()\n",
    "    return "
   ]
  },
  {
   "cell_type": "code",
   "execution_count": 11,
   "metadata": {},
   "outputs": [
    {
     "data": {
      "text/plain": [
       "<matplotlib.axes._subplots.AxesSubplot at 0x1a22be53d0>"
      ]
     },
     "execution_count": 11,
     "metadata": {},
     "output_type": "execute_result"
    },
    {
     "data": {
      "image/png": "[encoded data removed]",
      "text/plain": [
       "<Figure size 576x396 with 1 Axes>"
      ]
     },
     "metadata": {},
     "output_type": "display_data"
    }
   ],
   "source": [
    "sns.distplot(df[\"SalePrice\"])"
   ]
  },
  {
   "cell_type": "code",
   "execution_count": 12,
   "metadata": {
    "scrolled": true
   },
   "outputs": [
    {
     "data": {
      "image/png": "[encoded data removed]",
      "text/plain": [
       "<Figure size 576x396 with 1 Axes>"
      ]
     },
     "metadata": {},
     "output_type": "display_data"
    }
   ],
   "source": [
    "mu = np.mean(df[\"SalePrice\"])\n",
    "sigma = np.std(df[\"SalePrice\"])\n",
    "\n",
    "normal_val = np.random.normal(mu, sigma, size = 10000)\n",
    "ecdf_compare(df[\"SalePrice\"], normal_val)"
   ]
  },
  {
   "cell_type": "markdown",
   "metadata": {},
   "source": [
    "It doesn't close to normal distribution. We can also try if the distribution is log normal, to do that, we first create a variable log values and compare its ecdf with normal distribution"
   ]
  },
  {
   "cell_type": "code",
   "execution_count": 13,
   "metadata": {},
   "outputs": [],
   "source": [
    "df[\"LogSalePrice\"] = np.log(df[\"SalePrice\"])"
   ]
  },
  {
   "cell_type": "code",
   "execution_count": 14,
   "metadata": {
    "scrolled": false
   },
   "outputs": [
    {
     "data": {
      "text/plain": [
       "<matplotlib.axes._subplots.AxesSubplot at 0x1a22ce60d0>"
      ]
     },
     "execution_count": 14,
     "metadata": {},
     "output_type": "execute_result"
    },
    {
     "data": {
      "image/png": "[encoded data removed]",
      "text/plain": [
       "<Figure size 576x396 with 1 Axes>"
      ]
     },
     "metadata": {},
     "output_type": "display_data"
    }
   ],
   "source": [
    "sns.distplot(df[\"LogSalePrice\"])"
   ]
  },
  {
   "cell_type": "code",
   "execution_count": 15,
   "metadata": {},
   "outputs": [
    {
     "data": {
      "image/png": "[encoded data removed]",
      "text/plain": [
       "<Figure size 576x396 with 1 Axes>"
      ]
     },
     "metadata": {},
     "output_type": "display_data"
    }
   ],
   "source": [
    "mu = np.mean(df[\"LogSalePrice\"])\n",
    "sigma = np.std(df[\"LogSalePrice\"])\n",
    "\n",
    "normal_val = np.random.normal(mu, sigma, size = 10000)\n",
    "ecdf_compare(df[\"LogSalePrice\"], normal_val)"
   ]
  },
  {
   "cell_type": "markdown",
   "metadata": {},
   "source": [
    "We can conclude that the distribution of log sale price is normal, so we can consider log sale price as the response variable"
   ]
  },
  {
   "cell_type": "markdown",
   "metadata": {},
   "source": [
    "### Saving plot to see the relationship between response and features"
   ]
  },
  {
   "cell_type": "code",
   "execution_count": 30,
   "metadata": {},
   "outputs": [],
   "source": [
    "df_type = pd.DataFrame({\"Columns\" : df.columns, \"Type\" : [str(df[col].dtype) for col in df.columns]})"
   ]
  },
  {
   "cell_type": "code",
   "execution_count": 33,
   "metadata": {},
   "outputs": [
    {
     "name": "stdout",
     "output_type": "stream",
     "text": [
      "Working on MSSubClass\n",
      "Working on MSZoning\n",
      "Working on LotFrontage\n",
      "Working on LotArea\n",
      "Working on Street\n",
      "Working on Alley\n",
      "Working on LotShape\n",
      "Working on LandContour\n",
      "Working on Utilities\n",
      "Working on LotConfig\n",
      "Working on LandSlope\n",
      "Working on Neighborhood\n",
      "Working on Condition1\n",
      "Working on Condition2\n",
      "Working on BldgType\n",
      "Working on HouseStyle\n",
      "Working on OverallQual\n",
      "Working on OverallCond\n",
      "Working on YearBuilt\n",
      "Working on YearRemodAdd\n",
      "Working on RoofStyle\n",
      "Working on RoofMatl\n",
      "Working on Exterior1st\n",
      "Working on Exterior2nd\n",
      "Working on MasVnrType\n",
      "Working on MasVnrArea\n",
      "Working on ExterQual\n",
      "Working on ExterCond\n",
      "Working on Foundation\n",
      "Working on BsmtQual\n",
      "Working on BsmtCond\n",
      "Working on BsmtExposure\n",
      "Working on BsmtFinType1\n",
      "Working on BsmtFinSF1\n",
      "Working on BsmtFinType2\n",
      "Working on BsmtFinSF2\n",
      "Working on BsmtUnfSF\n",
      "Working on TotalBsmtSF\n",
      "Working on Heating\n",
      "Working on HeatingQC\n",
      "Working on CentralAir\n",
      "Working on Electrical\n",
      "Working on 1stFlrSF\n",
      "Working on 2ndFlrSF\n",
      "Working on LowQualFinSF\n",
      "Working on GrLivArea\n",
      "Working on BsmtFullBath\n",
      "Working on BsmtHalfBath\n",
      "Working on FullBath\n",
      "Working on HalfBath\n",
      "Working on BedroomAbvGr\n",
      "Working on KitchenAbvGr\n",
      "Working on KitchenQual\n",
      "Working on TotRmsAbvGrd\n",
      "Working on Functional\n",
      "Working on Fireplaces\n",
      "Working on FireplaceQu\n",
      "Working on GarageType\n",
      "Working on GarageYrBlt\n",
      "Working on GarageFinish\n",
      "Working on GarageCars\n",
      "Working on GarageArea\n",
      "Working on GarageQual\n",
      "Working on GarageCond\n",
      "Working on PavedDrive\n",
      "Working on WoodDeckSF\n",
      "Working on OpenPorchSF\n",
      "Working on EnclosedPorch\n",
      "Working on 3SsnPorch\n",
      "Working on ScreenPorch\n",
      "Working on PoolArea\n",
      "Working on PoolQC\n",
      "Working on Fence\n",
      "Working on MiscFeature\n",
      "Working on MiscVal\n",
      "Working on MoSold\n",
      "Working on YrSold\n",
      "Working on SaleType\n",
      "Working on SaleCondition\n",
      "Working on SalePrice\n",
      "Working on LogSalePrice\n"
     ]
    }
   ],
   "source": [
    "if not(os.path.exists(\"_database/plot\")):\n",
    "    os.makedirs(\"_database/plot\")\n",
    "\n",
    "for i in range(df.shape[1]):\n",
    "    col = df.columns[i]\n",
    "    col_y = \"LogSalePrice\"\n",
    "    type_col = df_type.loc[df_type[\"Columns\"] == col, \"Type\"][i]\n",
    "    print(\"Working on {}\".format(col))\n",
    "    \n",
    "    fig = plt.figure(figsize = (8, 6))\n",
    "    if type_col == \"category\":\n",
    "        sns.boxplot(df[col], df[col_y])\n",
    "    else:\n",
    "        plt.scatter(df[col], df[col_y])\n",
    "    plt.title(\"Log Price vs {}\".format(col), fontdict = {'fontsize' : 20})\n",
    "    plt.xlabel(col)\n",
    "    plt.xticks(rotation = 45)\n",
    "    plt.savefig(\"_database/plot/{}.png\".format(col))\n",
    "    plt.close(fig)"
   ]
  },
  {
   "cell_type": "code",
   "execution_count": null,
   "metadata": {},
   "outputs": [],
   "source": []
  }
 ],
 "metadata": {
  "kernelspec": {
   "display_name": "Python 3",
   "language": "python",
   "name": "python3"
  },
  "language_info": {
   "codemirror_mode": {
    "name": "ipython",
    "version": 3
   },
   "file_extension": ".py",
   "mimetype": "text/x-python",
   "name": "python",
   "nbconvert_exporter": "python",
   "pygments_lexer": "ipython3",
   "version": "3.7.4"
  }
 },
 "nbformat": 4,
 "nbformat_minor": 2
}
