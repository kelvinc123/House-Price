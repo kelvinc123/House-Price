{
 "cells": [
  {
   "cell_type": "code",
   "execution_count": 1,
   "metadata": {},
   "outputs": [],
   "source": [
    "import pandas as pd\n",
    "import numpy as np\n",
    "import matplotlib.pyplot as plt\n",
    "import seaborn as sns\n",
    "import os\n",
    "import re"
   ]
  },
  {
   "cell_type": "code",
   "execution_count": 2,
   "metadata": {},
   "outputs": [],
   "source": [
    "plt.style.use(\"seaborn\")"
   ]
  },
  {
   "cell_type": "code",
   "execution_count": 3,
   "metadata": {},
   "outputs": [
    {
     "name": "stdout",
     "output_type": "stream",
     "text": [
      "['bmh', 'classic', 'dark_background', 'fast', 'fivethirtyeight', 'ggplot', 'grayscale', 'seaborn-bright', 'seaborn-colorblind', 'seaborn-dark-palette', 'seaborn-dark', 'seaborn-darkgrid', 'seaborn-deep', 'seaborn-muted', 'seaborn-notebook', 'seaborn-paper', 'seaborn-pastel', 'seaborn-poster', 'seaborn-talk', 'seaborn-ticks', 'seaborn-white', 'seaborn-whitegrid', 'seaborn', 'Solarize_Light2', 'tableau-colorblind10', '_classic_test']\n"
     ]
    }
   ],
   "source": [
    "print(plt.style.available)"
   ]
  },
  {
   "cell_type": "code",
   "execution_count": 4,
   "metadata": {
    "scrolled": false
   },
   "outputs": [
    {
     "name": "stdout",
     "output_type": "stream",
     "text": [
      "['.ipynb_checkpoints', 'main.py', 'preprocess_missing.ipynb', 'Untitled.ipynb', '_database', '_lib']\n"
     ]
    }
   ],
   "source": [
    "print(os.listdir())"
   ]
  },
  {
   "cell_type": "code",
   "execution_count": 5,
   "metadata": {},
   "outputs": [],
   "source": [
    "df = pd.read_csv(\"_database/Input/train.csv\", index_col = 0) # read the data"
   ]
  },
  {
   "cell_type": "code",
   "execution_count": 6,
   "metadata": {},
   "outputs": [],
   "source": [
    "def get_instruction(label):\n",
    "    \n",
    "    col_names = df.columns\n",
    "    \n",
    "    \n",
    "    # input check\n",
    "    if (not label in col_names) | (label == \"SalePrice\"):\n",
    "        print(\"Error, column name not specified!\")\n",
    "        return \n",
    "    \n",
    "    # specifying the next column name\n",
    "    next_label = col_names[int([i+1 for i, val in enumerate(col_names) if val == label][0])]\n",
    "    \n",
    "    # compile using re\n",
    "    label = re.compile(\"^{}:\".format(label))\n",
    "    next_label = re.compile(\"^{}:\".format(next_label))\n",
<<<<<<< HEAD
=======
    "    cats = re.compile(\"\\s+([A-Za-z0-9]+)\\s+\")\n",
>>>>>>> parent of e6549b6... Tidy
    "\n",
    "    # algorithm start\n",
    "    with open(\"_database/Input/data_description.txt\") as desc:\n",
    "        finish = False\n",
    "        while True:\n",
    "            if finish:\n",
    "                break\n",
    "                \n",
    "            line = desc.readline()\n",
    "\n",
    "            if label.search(line):\n",
    "                print(line, end = \"\")\n",
    "\n",
    "                while True:\n",
    "                    line = desc.readline()\n",
    "                    if next_label.search(line):\n",
    "                        finish = True\n",
    "                        break\n",
    "                    elif line == \"\":\n",
    "                        finish = True\n",
    "                        break\n",
    "                    else:\n",
    "                        print(line, end = \"\")\n",
    "                    \n",
    "    return "
   ]
  },
  {
   "cell_type": "code",
   "execution_count": 7,
   "metadata": {
    "scrolled": true
   },
   "outputs": [
    {
     "data": {
      "text/html": [
       "<div>\n",
       "<style scoped>\n",
       "    .dataframe tbody tr th:only-of-type {\n",
       "        vertical-align: middle;\n",
       "    }\n",
       "\n",
       "    .dataframe tbody tr th {\n",
       "        vertical-align: top;\n",
       "    }\n",
       "\n",
       "    .dataframe thead th {\n",
       "        text-align: right;\n",
       "    }\n",
       "</style>\n",
       "<table border=\"1\" class=\"dataframe\">\n",
       "  <thead>\n",
       "    <tr style=\"text-align: right;\">\n",
       "      <th></th>\n",
       "      <th>MSSubClass</th>\n",
       "      <th>MSZoning</th>\n",
       "      <th>LotFrontage</th>\n",
       "      <th>LotArea</th>\n",
       "      <th>Street</th>\n",
       "      <th>Alley</th>\n",
       "      <th>LotShape</th>\n",
       "      <th>LandContour</th>\n",
       "      <th>Utilities</th>\n",
       "      <th>LotConfig</th>\n",
       "      <th>...</th>\n",
       "      <th>PoolArea</th>\n",
       "      <th>PoolQC</th>\n",
       "      <th>Fence</th>\n",
       "      <th>MiscFeature</th>\n",
       "      <th>MiscVal</th>\n",
       "      <th>MoSold</th>\n",
       "      <th>YrSold</th>\n",
       "      <th>SaleType</th>\n",
       "      <th>SaleCondition</th>\n",
       "      <th>SalePrice</th>\n",
       "    </tr>\n",
       "    <tr>\n",
       "      <th>Id</th>\n",
       "      <th></th>\n",
       "      <th></th>\n",
       "      <th></th>\n",
       "      <th></th>\n",
       "      <th></th>\n",
       "      <th></th>\n",
       "      <th></th>\n",
       "      <th></th>\n",
       "      <th></th>\n",
       "      <th></th>\n",
       "      <th></th>\n",
       "      <th></th>\n",
       "      <th></th>\n",
       "      <th></th>\n",
       "      <th></th>\n",
       "      <th></th>\n",
       "      <th></th>\n",
       "      <th></th>\n",
       "      <th></th>\n",
       "      <th></th>\n",
       "      <th></th>\n",
       "    </tr>\n",
       "  </thead>\n",
       "  <tbody>\n",
       "    <tr>\n",
       "      <th>1</th>\n",
       "      <td>60</td>\n",
       "      <td>RL</td>\n",
       "      <td>65.0</td>\n",
       "      <td>8450</td>\n",
       "      <td>Pave</td>\n",
       "      <td>NaN</td>\n",
       "      <td>Reg</td>\n",
       "      <td>Lvl</td>\n",
       "      <td>AllPub</td>\n",
       "      <td>Inside</td>\n",
       "      <td>...</td>\n",
       "      <td>0</td>\n",
       "      <td>NaN</td>\n",
       "      <td>NaN</td>\n",
       "      <td>NaN</td>\n",
       "      <td>0</td>\n",
       "      <td>2</td>\n",
       "      <td>2008</td>\n",
       "      <td>WD</td>\n",
       "      <td>Normal</td>\n",
       "      <td>208500</td>\n",
       "    </tr>\n",
       "    <tr>\n",
       "      <th>2</th>\n",
       "      <td>20</td>\n",
       "      <td>RL</td>\n",
       "      <td>80.0</td>\n",
       "      <td>9600</td>\n",
       "      <td>Pave</td>\n",
       "      <td>NaN</td>\n",
       "      <td>Reg</td>\n",
       "      <td>Lvl</td>\n",
       "      <td>AllPub</td>\n",
       "      <td>FR2</td>\n",
       "      <td>...</td>\n",
       "      <td>0</td>\n",
       "      <td>NaN</td>\n",
       "      <td>NaN</td>\n",
       "      <td>NaN</td>\n",
       "      <td>0</td>\n",
       "      <td>5</td>\n",
       "      <td>2007</td>\n",
       "      <td>WD</td>\n",
       "      <td>Normal</td>\n",
       "      <td>181500</td>\n",
       "    </tr>\n",
       "    <tr>\n",
       "      <th>3</th>\n",
       "      <td>60</td>\n",
       "      <td>RL</td>\n",
       "      <td>68.0</td>\n",
       "      <td>11250</td>\n",
       "      <td>Pave</td>\n",
       "      <td>NaN</td>\n",
       "      <td>IR1</td>\n",
       "      <td>Lvl</td>\n",
       "      <td>AllPub</td>\n",
       "      <td>Inside</td>\n",
       "      <td>...</td>\n",
       "      <td>0</td>\n",
       "      <td>NaN</td>\n",
       "      <td>NaN</td>\n",
       "      <td>NaN</td>\n",
       "      <td>0</td>\n",
       "      <td>9</td>\n",
       "      <td>2008</td>\n",
       "      <td>WD</td>\n",
       "      <td>Normal</td>\n",
       "      <td>223500</td>\n",
       "    </tr>\n",
       "    <tr>\n",
       "      <th>4</th>\n",
       "      <td>70</td>\n",
       "      <td>RL</td>\n",
       "      <td>60.0</td>\n",
       "      <td>9550</td>\n",
       "      <td>Pave</td>\n",
       "      <td>NaN</td>\n",
       "      <td>IR1</td>\n",
       "      <td>Lvl</td>\n",
       "      <td>AllPub</td>\n",
       "      <td>Corner</td>\n",
       "      <td>...</td>\n",
       "      <td>0</td>\n",
       "      <td>NaN</td>\n",
       "      <td>NaN</td>\n",
       "      <td>NaN</td>\n",
       "      <td>0</td>\n",
       "      <td>2</td>\n",
       "      <td>2006</td>\n",
       "      <td>WD</td>\n",
       "      <td>Abnorml</td>\n",
       "      <td>140000</td>\n",
       "    </tr>\n",
       "    <tr>\n",
       "      <th>5</th>\n",
       "      <td>60</td>\n",
       "      <td>RL</td>\n",
       "      <td>84.0</td>\n",
       "      <td>14260</td>\n",
       "      <td>Pave</td>\n",
       "      <td>NaN</td>\n",
       "      <td>IR1</td>\n",
       "      <td>Lvl</td>\n",
       "      <td>AllPub</td>\n",
       "      <td>FR2</td>\n",
       "      <td>...</td>\n",
       "      <td>0</td>\n",
       "      <td>NaN</td>\n",
       "      <td>NaN</td>\n",
       "      <td>NaN</td>\n",
       "      <td>0</td>\n",
       "      <td>12</td>\n",
       "      <td>2008</td>\n",
       "      <td>WD</td>\n",
       "      <td>Normal</td>\n",
       "      <td>250000</td>\n",
       "    </tr>\n",
       "  </tbody>\n",
       "</table>\n",
       "<p>5 rows × 80 columns</p>\n",
       "</div>"
      ],
      "text/plain": [
       "    MSSubClass MSZoning  LotFrontage  LotArea Street Alley LotShape  \\\n",
       "Id                                                                    \n",
       "1           60       RL         65.0     8450   Pave   NaN      Reg   \n",
       "2           20       RL         80.0     9600   Pave   NaN      Reg   \n",
       "3           60       RL         68.0    11250   Pave   NaN      IR1   \n",
       "4           70       RL         60.0     9550   Pave   NaN      IR1   \n",
       "5           60       RL         84.0    14260   Pave   NaN      IR1   \n",
       "\n",
       "   LandContour Utilities LotConfig  ... PoolArea PoolQC Fence MiscFeature  \\\n",
       "Id                                  ...                                     \n",
       "1          Lvl    AllPub    Inside  ...        0    NaN   NaN         NaN   \n",
       "2          Lvl    AllPub       FR2  ...        0    NaN   NaN         NaN   \n",
       "3          Lvl    AllPub    Inside  ...        0    NaN   NaN         NaN   \n",
       "4          Lvl    AllPub    Corner  ...        0    NaN   NaN         NaN   \n",
       "5          Lvl    AllPub       FR2  ...        0    NaN   NaN         NaN   \n",
       "\n",
       "   MiscVal MoSold  YrSold  SaleType  SaleCondition  SalePrice  \n",
       "Id                                                             \n",
       "1        0      2    2008        WD         Normal     208500  \n",
       "2        0      5    2007        WD         Normal     181500  \n",
       "3        0      9    2008        WD         Normal     223500  \n",
       "4        0      2    2006        WD        Abnorml     140000  \n",
       "5        0     12    2008        WD         Normal     250000  \n",
       "\n",
       "[5 rows x 80 columns]"
      ]
     },
     "execution_count": 7,
     "metadata": {},
     "output_type": "execute_result"
    }
   ],
   "source": [
    "df.head()"
   ]
  },
  {
   "cell_type": "code",
   "execution_count": 8,
   "metadata": {},
   "outputs": [
    {
     "name": "stdout",
     "output_type": "stream",
     "text": [
      "(1460, 80)\n"
     ]
    }
   ],
   "source": [
    "print(df.shape)"
   ]
  },
  {
   "cell_type": "code",
   "execution_count": 9,
   "metadata": {},
   "outputs": [
    {
     "name": "stdout",
     "output_type": "stream",
     "text": [
      "<class 'pandas.core.frame.DataFrame'>\n",
      "Int64Index: 1460 entries, 1 to 1460\n",
      "Data columns (total 80 columns):\n",
      "MSSubClass       1460 non-null int64\n",
      "MSZoning         1460 non-null object\n",
      "LotFrontage      1201 non-null float64\n",
      "LotArea          1460 non-null int64\n",
      "Street           1460 non-null object\n",
      "Alley            91 non-null object\n",
      "LotShape         1460 non-null object\n",
      "LandContour      1460 non-null object\n",
      "Utilities        1460 non-null object\n",
      "LotConfig        1460 non-null object\n",
      "LandSlope        1460 non-null object\n",
      "Neighborhood     1460 non-null object\n",
      "Condition1       1460 non-null object\n",
      "Condition2       1460 non-null object\n",
      "BldgType         1460 non-null object\n",
      "HouseStyle       1460 non-null object\n",
      "OverallQual      1460 non-null int64\n",
      "OverallCond      1460 non-null int64\n",
      "YearBuilt        1460 non-null int64\n",
      "YearRemodAdd     1460 non-null int64\n",
      "RoofStyle        1460 non-null object\n",
      "RoofMatl         1460 non-null object\n",
      "Exterior1st      1460 non-null object\n",
      "Exterior2nd      1460 non-null object\n",
      "MasVnrType       1452 non-null object\n",
      "MasVnrArea       1452 non-null float64\n",
      "ExterQual        1460 non-null object\n",
      "ExterCond        1460 non-null object\n",
      "Foundation       1460 non-null object\n",
      "BsmtQual         1423 non-null object\n",
      "BsmtCond         1423 non-null object\n",
      "BsmtExposure     1422 non-null object\n",
      "BsmtFinType1     1423 non-null object\n",
      "BsmtFinSF1       1460 non-null int64\n",
      "BsmtFinType2     1422 non-null object\n",
      "BsmtFinSF2       1460 non-null int64\n",
      "BsmtUnfSF        1460 non-null int64\n",
      "TotalBsmtSF      1460 non-null int64\n",
      "Heating          1460 non-null object\n",
      "HeatingQC        1460 non-null object\n",
      "CentralAir       1460 non-null object\n",
      "Electrical       1459 non-null object\n",
      "1stFlrSF         1460 non-null int64\n",
      "2ndFlrSF         1460 non-null int64\n",
      "LowQualFinSF     1460 non-null int64\n",
      "GrLivArea        1460 non-null int64\n",
      "BsmtFullBath     1460 non-null int64\n",
      "BsmtHalfBath     1460 non-null int64\n",
      "FullBath         1460 non-null int64\n",
      "HalfBath         1460 non-null int64\n",
      "BedroomAbvGr     1460 non-null int64\n",
      "KitchenAbvGr     1460 non-null int64\n",
      "KitchenQual      1460 non-null object\n",
      "TotRmsAbvGrd     1460 non-null int64\n",
      "Functional       1460 non-null object\n",
      "Fireplaces       1460 non-null int64\n",
      "FireplaceQu      770 non-null object\n",
      "GarageType       1379 non-null object\n",
      "GarageYrBlt      1379 non-null float64\n",
      "GarageFinish     1379 non-null object\n",
      "GarageCars       1460 non-null int64\n",
      "GarageArea       1460 non-null int64\n",
      "GarageQual       1379 non-null object\n",
      "GarageCond       1379 non-null object\n",
      "PavedDrive       1460 non-null object\n",
      "WoodDeckSF       1460 non-null int64\n",
      "OpenPorchSF      1460 non-null int64\n",
      "EnclosedPorch    1460 non-null int64\n",
      "3SsnPorch        1460 non-null int64\n",
      "ScreenPorch      1460 non-null int64\n",
      "PoolArea         1460 non-null int64\n",
      "PoolQC           7 non-null object\n",
      "Fence            281 non-null object\n",
      "MiscFeature      54 non-null object\n",
      "MiscVal          1460 non-null int64\n",
      "MoSold           1460 non-null int64\n",
      "YrSold           1460 non-null int64\n",
      "SaleType         1460 non-null object\n",
      "SaleCondition    1460 non-null object\n",
      "SalePrice        1460 non-null int64\n",
      "dtypes: float64(3), int64(34), object(43)\n",
      "memory usage: 923.9+ KB\n",
      "None\n"
     ]
    }
   ],
   "source": [
    "print(df.info())"
   ]
  },
  {
   "cell_type": "markdown",
   "metadata": {},
   "source": [
    "#### Number of type "
   ]
  },
  {
   "cell_type": "code",
   "execution_count": 10,
   "metadata": {},
   "outputs": [
    {
     "data": {
      "text/plain": [
       "34"
      ]
     },
     "execution_count": 10,
     "metadata": {},
     "output_type": "execute_result"
    }
   ],
   "source": [
    "np.sum(df.dtypes == \"int64\")"
   ]
  },
  {
   "cell_type": "code",
   "execution_count": 11,
   "metadata": {},
   "outputs": [
    {
     "data": {
      "text/plain": [
       "43"
      ]
     },
     "execution_count": 11,
     "metadata": {},
     "output_type": "execute_result"
    }
   ],
   "source": [
    "np.sum(df.dtypes == \"object\")"
   ]
  },
  {
   "cell_type": "code",
   "execution_count": 12,
   "metadata": {},
   "outputs": [
    {
     "data": {
      "text/plain": [
       "3"
      ]
     },
     "execution_count": 12,
     "metadata": {},
     "output_type": "execute_result"
    }
   ],
   "source": [
    "np.sum(df.dtypes == \"float64\")"
   ]
  },
  {
   "cell_type": "markdown",
   "metadata": {},
   "source": [
    "### Handling Missing Values"
   ]
  },
  {
   "cell_type": "markdown",
   "metadata": {},
   "source": [
    "Number of missing values each variables"
   ]
  },
  {
   "cell_type": "code",
   "execution_count": 13,
   "metadata": {},
   "outputs": [],
   "source": [
    "def var_missing():\n",
    "    missing_values = df.isna().apply(sum)[df.isna().apply(sum) > 0].sort_values()\n",
    "    return pd.DataFrame({\"Missing\": missing_values})"
   ]
  },
  {
   "cell_type": "code",
   "execution_count": 14,
   "metadata": {},
   "outputs": [
    {
     "data": {
      "text/html": [
       "<div>\n",
       "<style scoped>\n",
       "    .dataframe tbody tr th:only-of-type {\n",
       "        vertical-align: middle;\n",
       "    }\n",
       "\n",
       "    .dataframe tbody tr th {\n",
       "        vertical-align: top;\n",
       "    }\n",
       "\n",
       "    .dataframe thead th {\n",
       "        text-align: right;\n",
       "    }\n",
       "</style>\n",
       "<table border=\"1\" class=\"dataframe\">\n",
       "  <thead>\n",
       "    <tr style=\"text-align: right;\">\n",
       "      <th></th>\n",
       "      <th>Missing</th>\n",
       "    </tr>\n",
       "  </thead>\n",
       "  <tbody>\n",
       "    <tr>\n",
       "      <th>Electrical</th>\n",
       "      <td>1</td>\n",
       "    </tr>\n",
       "    <tr>\n",
       "      <th>MasVnrType</th>\n",
       "      <td>8</td>\n",
       "    </tr>\n",
       "    <tr>\n",
       "      <th>MasVnrArea</th>\n",
       "      <td>8</td>\n",
       "    </tr>\n",
       "    <tr>\n",
       "      <th>BsmtQual</th>\n",
       "      <td>37</td>\n",
       "    </tr>\n",
       "    <tr>\n",
       "      <th>BsmtCond</th>\n",
       "      <td>37</td>\n",
       "    </tr>\n",
       "    <tr>\n",
       "      <th>BsmtFinType1</th>\n",
       "      <td>37</td>\n",
       "    </tr>\n",
       "    <tr>\n",
       "      <th>BsmtExposure</th>\n",
       "      <td>38</td>\n",
       "    </tr>\n",
       "    <tr>\n",
       "      <th>BsmtFinType2</th>\n",
       "      <td>38</td>\n",
       "    </tr>\n",
       "    <tr>\n",
       "      <th>GarageCond</th>\n",
       "      <td>81</td>\n",
       "    </tr>\n",
       "    <tr>\n",
       "      <th>GarageQual</th>\n",
       "      <td>81</td>\n",
       "    </tr>\n",
       "    <tr>\n",
       "      <th>GarageFinish</th>\n",
       "      <td>81</td>\n",
       "    </tr>\n",
       "    <tr>\n",
       "      <th>GarageType</th>\n",
       "      <td>81</td>\n",
       "    </tr>\n",
       "    <tr>\n",
       "      <th>GarageYrBlt</th>\n",
       "      <td>81</td>\n",
       "    </tr>\n",
       "    <tr>\n",
       "      <th>LotFrontage</th>\n",
       "      <td>259</td>\n",
       "    </tr>\n",
       "    <tr>\n",
       "      <th>FireplaceQu</th>\n",
       "      <td>690</td>\n",
       "    </tr>\n",
       "    <tr>\n",
       "      <th>Fence</th>\n",
       "      <td>1179</td>\n",
       "    </tr>\n",
       "    <tr>\n",
       "      <th>Alley</th>\n",
       "      <td>1369</td>\n",
       "    </tr>\n",
       "    <tr>\n",
       "      <th>MiscFeature</th>\n",
       "      <td>1406</td>\n",
       "    </tr>\n",
       "    <tr>\n",
       "      <th>PoolQC</th>\n",
       "      <td>1453</td>\n",
       "    </tr>\n",
       "  </tbody>\n",
       "</table>\n",
       "</div>"
      ],
      "text/plain": [
       "              Missing\n",
       "Electrical          1\n",
       "MasVnrType          8\n",
       "MasVnrArea          8\n",
       "BsmtQual           37\n",
       "BsmtCond           37\n",
       "BsmtFinType1       37\n",
       "BsmtExposure       38\n",
       "BsmtFinType2       38\n",
       "GarageCond         81\n",
       "GarageQual         81\n",
       "GarageFinish       81\n",
       "GarageType         81\n",
       "GarageYrBlt        81\n",
       "LotFrontage       259\n",
       "FireplaceQu       690\n",
       "Fence            1179\n",
       "Alley            1369\n",
       "MiscFeature      1406\n",
       "PoolQC           1453"
      ]
     },
     "execution_count": 14,
     "metadata": {},
     "output_type": "execute_result"
    }
   ],
   "source": [
    "var_missing()"
   ]
  },
  {
   "cell_type": "code",
   "execution_count": 15,
   "metadata": {},
   "outputs": [
    {
     "data": {
      "image/png": "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\n",
      "text/plain": [
       "<Figure size 576x396 with 1 Axes>"
      ]
     },
     "metadata": {},
     "output_type": "display_data"
    }
   ],
   "source": [
    "missing_values = var_missing()\n",
    "sns.barplot(missing_values.index, missing_values[\"Missing\"])\n",
    "_ = plt.xticks(rotation = 90)"
   ]
  },
  {
   "cell_type": "markdown",
   "metadata": {},
   "source": [
    "##### Electrical "
   ]
  },
  {
   "cell_type": "code",
   "execution_count": 16,
   "metadata": {},
   "outputs": [
    {
     "name": "stdout",
     "output_type": "stream",
     "text": [
      "Electrical: Electrical system\n",
      "\n",
      "       SBrkr\tStandard Circuit Breakers & Romex\n",
      "       FuseA\tFuse Box over 60 AMP and all Romex wiring (Average)\t\n",
      "       FuseF\t60 AMP Fuse Box and mostly Romex wiring (Fair)\n",
      "       FuseP\t60 AMP Fuse Box and mostly knob & tube wiring (poor)\n",
      "       Mix\tMixed\n",
      "\t\t\n"
     ]
    }
   ],
   "source": [
    "get_instruction(\"Electrical\")"
   ]
  },
  {
   "cell_type": "markdown",
   "metadata": {},
   "source": [
    "Since electrical variable only has 1 missing value, we can drop it, notice that it is categorical so we can't impute it"
   ]
  },
  {
   "cell_type": "code",
   "execution_count": 17,
   "metadata": {},
   "outputs": [],
   "source": [
    "df = df.loc[df[\"Electrical\"].isna() == False,:]"
   ]
  },
  {
   "cell_type": "code",
   "execution_count": 18,
   "metadata": {},
   "outputs": [
    {
     "data": {
      "text/plain": [
       "(1459, 80)"
      ]
     },
     "execution_count": 18,
     "metadata": {},
     "output_type": "execute_result"
    }
   ],
   "source": [
    "df.shape"
   ]
  },
  {
   "cell_type": "markdown",
   "metadata": {},
   "source": [
    "##### Garage"
   ]
  },
  {
   "cell_type": "code",
   "execution_count": 19,
   "metadata": {},
   "outputs": [
    {
     "data": {
      "text/html": [
       "<div>\n",
       "<style scoped>\n",
       "    .dataframe tbody tr th:only-of-type {\n",
       "        vertical-align: middle;\n",
       "    }\n",
       "\n",
       "    .dataframe tbody tr th {\n",
       "        vertical-align: top;\n",
       "    }\n",
       "\n",
       "    .dataframe thead th {\n",
       "        text-align: right;\n",
       "    }\n",
       "</style>\n",
       "<table border=\"1\" class=\"dataframe\">\n",
       "  <thead>\n",
       "    <tr style=\"text-align: right;\">\n",
       "      <th></th>\n",
       "      <th>Missing</th>\n",
       "    </tr>\n",
       "  </thead>\n",
       "  <tbody>\n",
       "    <tr>\n",
       "      <th>MasVnrType</th>\n",
       "      <td>8</td>\n",
       "    </tr>\n",
       "    <tr>\n",
       "      <th>MasVnrArea</th>\n",
       "      <td>8</td>\n",
       "    </tr>\n",
       "    <tr>\n",
       "      <th>BsmtQual</th>\n",
       "      <td>37</td>\n",
       "    </tr>\n",
       "    <tr>\n",
       "      <th>BsmtCond</th>\n",
       "      <td>37</td>\n",
       "    </tr>\n",
       "    <tr>\n",
       "      <th>BsmtFinType1</th>\n",
       "      <td>37</td>\n",
       "    </tr>\n",
       "    <tr>\n",
       "      <th>BsmtFinType2</th>\n",
       "      <td>38</td>\n",
       "    </tr>\n",
       "    <tr>\n",
       "      <th>BsmtExposure</th>\n",
       "      <td>38</td>\n",
       "    </tr>\n",
       "    <tr>\n",
       "      <th>GarageCond</th>\n",
       "      <td>81</td>\n",
       "    </tr>\n",
       "    <tr>\n",
       "      <th>GarageQual</th>\n",
       "      <td>81</td>\n",
       "    </tr>\n",
       "    <tr>\n",
       "      <th>GarageFinish</th>\n",
       "      <td>81</td>\n",
       "    </tr>\n",
       "    <tr>\n",
       "      <th>GarageType</th>\n",
       "      <td>81</td>\n",
       "    </tr>\n",
       "    <tr>\n",
       "      <th>GarageYrBlt</th>\n",
       "      <td>81</td>\n",
       "    </tr>\n",
       "    <tr>\n",
       "      <th>LotFrontage</th>\n",
       "      <td>259</td>\n",
       "    </tr>\n",
       "    <tr>\n",
       "      <th>FireplaceQu</th>\n",
       "      <td>689</td>\n",
       "    </tr>\n",
       "    <tr>\n",
       "      <th>Fence</th>\n",
       "      <td>1178</td>\n",
       "    </tr>\n",
       "    <tr>\n",
       "      <th>Alley</th>\n",
       "      <td>1368</td>\n",
       "    </tr>\n",
       "    <tr>\n",
       "      <th>MiscFeature</th>\n",
       "      <td>1405</td>\n",
       "    </tr>\n",
       "    <tr>\n",
       "      <th>PoolQC</th>\n",
       "      <td>1452</td>\n",
       "    </tr>\n",
       "  </tbody>\n",
       "</table>\n",
       "</div>"
      ],
      "text/plain": [
       "              Missing\n",
       "MasVnrType          8\n",
       "MasVnrArea          8\n",
       "BsmtQual           37\n",
       "BsmtCond           37\n",
       "BsmtFinType1       37\n",
       "BsmtFinType2       38\n",
       "BsmtExposure       38\n",
       "GarageCond         81\n",
       "GarageQual         81\n",
       "GarageFinish       81\n",
       "GarageType         81\n",
       "GarageYrBlt        81\n",
       "LotFrontage       259\n",
       "FireplaceQu       689\n",
       "Fence            1178\n",
       "Alley            1368\n",
       "MiscFeature      1405\n",
       "PoolQC           1452"
      ]
     },
     "execution_count": 19,
     "metadata": {},
     "output_type": "execute_result"
    }
   ],
   "source": [
    "var_missing()"
   ]
  },
  {
   "cell_type": "markdown",
   "metadata": {},
   "source": [
    "Now, we're looking for the garage variables, it shows that 81 of the obervations have NaN values on garage variables, one might guess that there are 81 houses that don't have garage, we can also check if all garage variables are NaN."
   ]
  },
  {
   "cell_type": "code",
   "execution_count": 20,
   "metadata": {},
   "outputs": [
    {
     "name": "stdout",
     "output_type": "stream",
     "text": [
      "['GarageType', 'GarageYrBlt', 'GarageFinish', 'GarageCars', 'GarageArea', 'GarageQual', 'GarageCond']\n"
     ]
    }
   ],
   "source": [
    "garage = list(df.columns[[\"Garage\" in col for col in df.columns]]) # find garage columns\n",
    "print(garage)"
   ]
  },
  {
   "cell_type": "code",
   "execution_count": 21,
   "metadata": {},
   "outputs": [
    {
     "data": {
      "text/html": [
       "<div>\n",
       "<style scoped>\n",
       "    .dataframe tbody tr th:only-of-type {\n",
       "        vertical-align: middle;\n",
       "    }\n",
       "\n",
       "    .dataframe tbody tr th {\n",
       "        vertical-align: top;\n",
       "    }\n",
       "\n",
       "    .dataframe thead th {\n",
       "        text-align: right;\n",
       "    }\n",
       "</style>\n",
       "<table border=\"1\" class=\"dataframe\">\n",
       "  <thead>\n",
       "    <tr style=\"text-align: right;\">\n",
       "      <th></th>\n",
       "      <th>GarageType</th>\n",
       "      <th>GarageYrBlt</th>\n",
       "      <th>GarageFinish</th>\n",
       "      <th>GarageCars</th>\n",
       "      <th>GarageArea</th>\n",
       "      <th>GarageQual</th>\n",
       "      <th>GarageCond</th>\n",
       "    </tr>\n",
       "    <tr>\n",
       "      <th>Id</th>\n",
       "      <th></th>\n",
       "      <th></th>\n",
       "      <th></th>\n",
       "      <th></th>\n",
       "      <th></th>\n",
       "      <th></th>\n",
       "      <th></th>\n",
       "    </tr>\n",
       "  </thead>\n",
       "  <tbody>\n",
       "    <tr>\n",
       "      <th>40</th>\n",
       "      <td>NaN</td>\n",
       "      <td>NaN</td>\n",
       "      <td>NaN</td>\n",
       "      <td>0</td>\n",
       "      <td>0</td>\n",
       "      <td>NaN</td>\n",
       "      <td>NaN</td>\n",
       "    </tr>\n",
       "    <tr>\n",
       "      <th>49</th>\n",
       "      <td>NaN</td>\n",
       "      <td>NaN</td>\n",
       "      <td>NaN</td>\n",
       "      <td>0</td>\n",
       "      <td>0</td>\n",
       "      <td>NaN</td>\n",
       "      <td>NaN</td>\n",
       "    </tr>\n",
       "    <tr>\n",
       "      <th>79</th>\n",
       "      <td>NaN</td>\n",
       "      <td>NaN</td>\n",
       "      <td>NaN</td>\n",
       "      <td>0</td>\n",
       "      <td>0</td>\n",
       "      <td>NaN</td>\n",
       "      <td>NaN</td>\n",
       "    </tr>\n",
       "    <tr>\n",
       "      <th>89</th>\n",
       "      <td>NaN</td>\n",
       "      <td>NaN</td>\n",
       "      <td>NaN</td>\n",
       "      <td>0</td>\n",
       "      <td>0</td>\n",
       "      <td>NaN</td>\n",
       "      <td>NaN</td>\n",
       "    </tr>\n",
       "    <tr>\n",
       "      <th>90</th>\n",
       "      <td>NaN</td>\n",
       "      <td>NaN</td>\n",
       "      <td>NaN</td>\n",
       "      <td>0</td>\n",
       "      <td>0</td>\n",
       "      <td>NaN</td>\n",
       "      <td>NaN</td>\n",
       "    </tr>\n",
       "    <tr>\n",
       "      <th>...</th>\n",
       "      <td>...</td>\n",
       "      <td>...</td>\n",
       "      <td>...</td>\n",
       "      <td>...</td>\n",
       "      <td>...</td>\n",
       "      <td>...</td>\n",
       "      <td>...</td>\n",
       "    </tr>\n",
       "    <tr>\n",
       "      <th>1350</th>\n",
       "      <td>NaN</td>\n",
       "      <td>NaN</td>\n",
       "      <td>NaN</td>\n",
       "      <td>0</td>\n",
       "      <td>0</td>\n",
       "      <td>NaN</td>\n",
       "      <td>NaN</td>\n",
       "    </tr>\n",
       "    <tr>\n",
       "      <th>1408</th>\n",
       "      <td>NaN</td>\n",
       "      <td>NaN</td>\n",
       "      <td>NaN</td>\n",
       "      <td>0</td>\n",
       "      <td>0</td>\n",
       "      <td>NaN</td>\n",
       "      <td>NaN</td>\n",
       "    </tr>\n",
       "    <tr>\n",
       "      <th>1450</th>\n",
       "      <td>NaN</td>\n",
       "      <td>NaN</td>\n",
       "      <td>NaN</td>\n",
       "      <td>0</td>\n",
       "      <td>0</td>\n",
       "      <td>NaN</td>\n",
       "      <td>NaN</td>\n",
       "    </tr>\n",
       "    <tr>\n",
       "      <th>1451</th>\n",
       "      <td>NaN</td>\n",
       "      <td>NaN</td>\n",
       "      <td>NaN</td>\n",
       "      <td>0</td>\n",
       "      <td>0</td>\n",
       "      <td>NaN</td>\n",
       "      <td>NaN</td>\n",
       "    </tr>\n",
       "    <tr>\n",
       "      <th>1454</th>\n",
       "      <td>NaN</td>\n",
       "      <td>NaN</td>\n",
       "      <td>NaN</td>\n",
       "      <td>0</td>\n",
       "      <td>0</td>\n",
       "      <td>NaN</td>\n",
       "      <td>NaN</td>\n",
       "    </tr>\n",
       "  </tbody>\n",
       "</table>\n",
       "<p>81 rows × 7 columns</p>\n",
       "</div>"
      ],
      "text/plain": [
       "     GarageType  GarageYrBlt GarageFinish  GarageCars  GarageArea GarageQual  \\\n",
       "Id                                                                             \n",
       "40          NaN          NaN          NaN           0           0        NaN   \n",
       "49          NaN          NaN          NaN           0           0        NaN   \n",
       "79          NaN          NaN          NaN           0           0        NaN   \n",
       "89          NaN          NaN          NaN           0           0        NaN   \n",
       "90          NaN          NaN          NaN           0           0        NaN   \n",
       "...         ...          ...          ...         ...         ...        ...   \n",
       "1350        NaN          NaN          NaN           0           0        NaN   \n",
       "1408        NaN          NaN          NaN           0           0        NaN   \n",
       "1450        NaN          NaN          NaN           0           0        NaN   \n",
       "1451        NaN          NaN          NaN           0           0        NaN   \n",
       "1454        NaN          NaN          NaN           0           0        NaN   \n",
       "\n",
       "     GarageCond  \n",
       "Id               \n",
       "40          NaN  \n",
       "49          NaN  \n",
       "79          NaN  \n",
       "89          NaN  \n",
       "90          NaN  \n",
       "...         ...  \n",
       "1350        NaN  \n",
       "1408        NaN  \n",
       "1450        NaN  \n",
       "1451        NaN  \n",
       "1454        NaN  \n",
       "\n",
       "[81 rows x 7 columns]"
      ]
     },
     "execution_count": 21,
     "metadata": {},
     "output_type": "execute_result"
    }
   ],
   "source": [
    "df.loc[df[\"GarageType\"].isna(),garage]"
   ]
  },
  {
   "cell_type": "code",
   "execution_count": 22,
   "metadata": {},
   "outputs": [
    {
     "name": "stdout",
     "output_type": "stream",
     "text": [
      "GarageType: Garage location\n",
      "\t\t\n",
      "       2Types\tMore than one type of garage\n",
      "       Attchd\tAttached to home\n",
      "       Basment\tBasement Garage\n",
      "       BuiltIn\tBuilt-In (Garage part of house - typically has room above garage)\n",
      "       CarPort\tCar Port\n",
      "       Detchd\tDetached from home\n",
      "       NA\tNo Garage\n",
      "\t\t\n",
      "GarageYrBlt: Year garage was built\n",
      "\t\t\n",
      "GarageFinish: Interior finish of the garage\n",
      "\n",
      "       Fin\tFinished\n",
      "       RFn\tRough Finished\t\n",
      "       Unf\tUnfinished\n",
      "       NA\tNo Garage\n",
      "\t\t\n",
      "GarageCars: Size of garage in car capacity\n",
      "\n",
      "GarageArea: Size of garage in square feet\n",
      "\n",
      "GarageQual: Garage quality\n",
      "\n",
      "       Ex\tExcellent\n",
      "       Gd\tGood\n",
      "       TA\tTypical/Average\n",
      "       Fa\tFair\n",
      "       Po\tPoor\n",
      "       NA\tNo Garage\n",
      "\t\t\n",
      "GarageCond: Garage condition\n",
      "\n",
      "       Ex\tExcellent\n",
      "       Gd\tGood\n",
      "       TA\tTypical/Average\n",
      "       Fa\tFair\n",
      "       Po\tPoor\n",
      "       NA\tNo Garage\n",
      "\t\t\n"
     ]
    }
   ],
   "source": [
    "# View instruction of garage variables\n",
    "for variab in garage:\n",
    "    get_instruction(variab)"
   ]
  },
  {
   "cell_type": "code",
   "execution_count": 23,
   "metadata": {
    "scrolled": true
   },
   "outputs": [
    {
     "data": {
      "text/plain": [
       "Attchd     870\n",
       "Detchd     387\n",
       "BuiltIn     87\n",
       "Basment     19\n",
       "CarPort      9\n",
       "2Types       6\n",
       "Name: GarageType, dtype: int64"
      ]
     },
     "execution_count": 23,
     "metadata": {},
     "output_type": "execute_result"
    }
   ],
   "source": [
    "df[\"GarageType\"].value_counts()"
   ]
  },
  {
   "cell_type": "markdown",
   "metadata": {},
   "source": [
    "Here, we see that NA value in variable \"garage\" means that the house doesn't have garage (not a missing values), but pandas think that it has a missing values. We can fix this problem by fill na."
   ]
  },
  {
   "cell_type": "code",
   "execution_count": 24,
   "metadata": {},
   "outputs": [],
   "source": [
    "df.loc[df[\"GarageYrBlt\"].isna(),\"GarageYrBlt\"] = 0"
   ]
  },
  {
   "cell_type": "code",
   "execution_count": 25,
   "metadata": {},
   "outputs": [],
   "source": [
    "df.loc[df[\"GarageType\"].isna(), [\"GarageType\", \"GarageFinish\", \"GarageQual\", \"GarageCond\"]] = \"NA\""
   ]
  },
  {
   "cell_type": "code",
   "execution_count": 26,
   "metadata": {},
   "outputs": [
    {
     "data": {
      "text/plain": [
       "Attchd     870\n",
       "Detchd     387\n",
       "BuiltIn     87\n",
       "NA          81\n",
       "Basment     19\n",
       "CarPort      9\n",
       "2Types       6\n",
       "Name: GarageType, dtype: int64"
      ]
     },
     "execution_count": 26,
     "metadata": {},
     "output_type": "execute_result"
    }
   ],
   "source": [
    "df[\"GarageType\"].value_counts()"
   ]
  },
  {
   "cell_type": "markdown",
   "metadata": {},
   "source": [
    "##### Basement"
   ]
  },
  {
   "cell_type": "code",
   "execution_count": 27,
   "metadata": {},
   "outputs": [
    {
     "data": {
      "text/html": [
       "<div>\n",
       "<style scoped>\n",
       "    .dataframe tbody tr th:only-of-type {\n",
       "        vertical-align: middle;\n",
       "    }\n",
       "\n",
       "    .dataframe tbody tr th {\n",
       "        vertical-align: top;\n",
       "    }\n",
       "\n",
       "    .dataframe thead th {\n",
       "        text-align: right;\n",
       "    }\n",
       "</style>\n",
       "<table border=\"1\" class=\"dataframe\">\n",
       "  <thead>\n",
       "    <tr style=\"text-align: right;\">\n",
       "      <th></th>\n",
       "      <th>Missing</th>\n",
       "    </tr>\n",
       "  </thead>\n",
       "  <tbody>\n",
       "    <tr>\n",
       "      <th>MasVnrType</th>\n",
       "      <td>8</td>\n",
       "    </tr>\n",
       "    <tr>\n",
       "      <th>MasVnrArea</th>\n",
       "      <td>8</td>\n",
       "    </tr>\n",
       "    <tr>\n",
       "      <th>BsmtQual</th>\n",
       "      <td>37</td>\n",
       "    </tr>\n",
       "    <tr>\n",
       "      <th>BsmtCond</th>\n",
       "      <td>37</td>\n",
       "    </tr>\n",
       "    <tr>\n",
       "      <th>BsmtFinType1</th>\n",
       "      <td>37</td>\n",
       "    </tr>\n",
       "    <tr>\n",
       "      <th>BsmtExposure</th>\n",
       "      <td>38</td>\n",
       "    </tr>\n",
       "    <tr>\n",
       "      <th>BsmtFinType2</th>\n",
       "      <td>38</td>\n",
       "    </tr>\n",
       "    <tr>\n",
       "      <th>LotFrontage</th>\n",
       "      <td>259</td>\n",
       "    </tr>\n",
       "    <tr>\n",
       "      <th>FireplaceQu</th>\n",
       "      <td>689</td>\n",
       "    </tr>\n",
       "    <tr>\n",
       "      <th>Fence</th>\n",
       "      <td>1178</td>\n",
       "    </tr>\n",
       "    <tr>\n",
       "      <th>Alley</th>\n",
       "      <td>1368</td>\n",
       "    </tr>\n",
       "    <tr>\n",
       "      <th>MiscFeature</th>\n",
       "      <td>1405</td>\n",
       "    </tr>\n",
       "    <tr>\n",
       "      <th>PoolQC</th>\n",
       "      <td>1452</td>\n",
       "    </tr>\n",
       "  </tbody>\n",
       "</table>\n",
       "</div>"
      ],
      "text/plain": [
       "              Missing\n",
       "MasVnrType          8\n",
       "MasVnrArea          8\n",
       "BsmtQual           37\n",
       "BsmtCond           37\n",
       "BsmtFinType1       37\n",
       "BsmtExposure       38\n",
       "BsmtFinType2       38\n",
       "LotFrontage       259\n",
       "FireplaceQu       689\n",
       "Fence            1178\n",
       "Alley            1368\n",
       "MiscFeature      1405\n",
       "PoolQC           1452"
      ]
     },
     "execution_count": 27,
     "metadata": {},
     "output_type": "execute_result"
    }
   ],
   "source": [
    "var_missing()"
   ]
  },
  {
   "cell_type": "code",
   "execution_count": 28,
   "metadata": {},
   "outputs": [
    {
     "name": "stdout",
     "output_type": "stream",
     "text": [
      "['BsmtQual', 'BsmtCond', 'BsmtExposure', 'BsmtFinType1', 'BsmtFinSF1', 'BsmtFinType2', 'BsmtFinSF2', 'BsmtUnfSF', 'TotalBsmtSF', 'BsmtFullBath', 'BsmtHalfBath']\n"
     ]
    }
   ],
   "source": [
    "basement = list(df.columns[[\"Bsmt\" in col for col in df.columns]]) # find basement columns\n",
    "print(basement)"
   ]
  },
  {
   "cell_type": "code",
   "execution_count": 29,
   "metadata": {},
   "outputs": [
    {
     "data": {
      "text/html": [
       "<div>\n",
       "<style scoped>\n",
       "    .dataframe tbody tr th:only-of-type {\n",
       "        vertical-align: middle;\n",
       "    }\n",
       "\n",
       "    .dataframe tbody tr th {\n",
       "        vertical-align: top;\n",
       "    }\n",
       "\n",
       "    .dataframe thead th {\n",
       "        text-align: right;\n",
       "    }\n",
       "</style>\n",
       "<table border=\"1\" class=\"dataframe\">\n",
       "  <thead>\n",
       "    <tr style=\"text-align: right;\">\n",
       "      <th></th>\n",
       "      <th>BsmtQual</th>\n",
       "      <th>BsmtCond</th>\n",
       "      <th>BsmtExposure</th>\n",
       "      <th>BsmtFinType1</th>\n",
       "      <th>BsmtFinSF1</th>\n",
       "      <th>BsmtFinType2</th>\n",
       "      <th>BsmtFinSF2</th>\n",
       "      <th>BsmtUnfSF</th>\n",
       "      <th>TotalBsmtSF</th>\n",
       "      <th>BsmtFullBath</th>\n",
       "      <th>BsmtHalfBath</th>\n",
       "    </tr>\n",
       "    <tr>\n",
       "      <th>Id</th>\n",
       "      <th></th>\n",
       "      <th></th>\n",
       "      <th></th>\n",
       "      <th></th>\n",
       "      <th></th>\n",
       "      <th></th>\n",
       "      <th></th>\n",
       "      <th></th>\n",
       "      <th></th>\n",
       "      <th></th>\n",
       "      <th></th>\n",
       "    </tr>\n",
       "  </thead>\n",
       "  <tbody>\n",
       "    <tr>\n",
       "      <th>18</th>\n",
       "      <td>NaN</td>\n",
       "      <td>NaN</td>\n",
       "      <td>NaN</td>\n",
       "      <td>NaN</td>\n",
       "      <td>0</td>\n",
       "      <td>NaN</td>\n",
       "      <td>0</td>\n",
       "      <td>0</td>\n",
       "      <td>0</td>\n",
       "      <td>0</td>\n",
       "      <td>0</td>\n",
       "    </tr>\n",
       "    <tr>\n",
       "      <th>40</th>\n",
       "      <td>NaN</td>\n",
       "      <td>NaN</td>\n",
       "      <td>NaN</td>\n",
       "      <td>NaN</td>\n",
       "      <td>0</td>\n",
       "      <td>NaN</td>\n",
       "      <td>0</td>\n",
       "      <td>0</td>\n",
       "      <td>0</td>\n",
       "      <td>0</td>\n",
       "      <td>0</td>\n",
       "    </tr>\n",
       "    <tr>\n",
       "      <th>91</th>\n",
       "      <td>NaN</td>\n",
       "      <td>NaN</td>\n",
       "      <td>NaN</td>\n",
       "      <td>NaN</td>\n",
       "      <td>0</td>\n",
       "      <td>NaN</td>\n",
       "      <td>0</td>\n",
       "      <td>0</td>\n",
       "      <td>0</td>\n",
       "      <td>0</td>\n",
       "      <td>0</td>\n",
       "    </tr>\n",
       "    <tr>\n",
       "      <th>103</th>\n",
       "      <td>NaN</td>\n",
       "      <td>NaN</td>\n",
       "      <td>NaN</td>\n",
       "      <td>NaN</td>\n",
       "      <td>0</td>\n",
       "      <td>NaN</td>\n",
       "      <td>0</td>\n",
       "      <td>0</td>\n",
       "      <td>0</td>\n",
       "      <td>0</td>\n",
       "      <td>0</td>\n",
       "    </tr>\n",
       "    <tr>\n",
       "      <th>157</th>\n",
       "      <td>NaN</td>\n",
       "      <td>NaN</td>\n",
       "      <td>NaN</td>\n",
       "      <td>NaN</td>\n",
       "      <td>0</td>\n",
       "      <td>NaN</td>\n",
       "      <td>0</td>\n",
       "      <td>0</td>\n",
       "      <td>0</td>\n",
       "      <td>0</td>\n",
       "      <td>0</td>\n",
       "    </tr>\n",
       "    <tr>\n",
       "      <th>183</th>\n",
       "      <td>NaN</td>\n",
       "      <td>NaN</td>\n",
       "      <td>NaN</td>\n",
       "      <td>NaN</td>\n",
       "      <td>0</td>\n",
       "      <td>NaN</td>\n",
       "      <td>0</td>\n",
       "      <td>0</td>\n",
       "      <td>0</td>\n",
       "      <td>0</td>\n",
       "      <td>0</td>\n",
       "    </tr>\n",
       "    <tr>\n",
       "      <th>260</th>\n",
       "      <td>NaN</td>\n",
       "      <td>NaN</td>\n",
       "      <td>NaN</td>\n",
       "      <td>NaN</td>\n",
       "      <td>0</td>\n",
       "      <td>NaN</td>\n",
       "      <td>0</td>\n",
       "      <td>0</td>\n",
       "      <td>0</td>\n",
       "      <td>0</td>\n",
       "      <td>0</td>\n",
       "    </tr>\n",
       "    <tr>\n",
       "      <th>343</th>\n",
       "      <td>NaN</td>\n",
       "      <td>NaN</td>\n",
       "      <td>NaN</td>\n",
       "      <td>NaN</td>\n",
       "      <td>0</td>\n",
       "      <td>NaN</td>\n",
       "      <td>0</td>\n",
       "      <td>0</td>\n",
       "      <td>0</td>\n",
       "      <td>0</td>\n",
       "      <td>0</td>\n",
       "    </tr>\n",
       "    <tr>\n",
       "      <th>363</th>\n",
       "      <td>NaN</td>\n",
       "      <td>NaN</td>\n",
       "      <td>NaN</td>\n",
       "      <td>NaN</td>\n",
       "      <td>0</td>\n",
       "      <td>NaN</td>\n",
       "      <td>0</td>\n",
       "      <td>0</td>\n",
       "      <td>0</td>\n",
       "      <td>0</td>\n",
       "      <td>0</td>\n",
       "    </tr>\n",
       "    <tr>\n",
       "      <th>372</th>\n",
       "      <td>NaN</td>\n",
       "      <td>NaN</td>\n",
       "      <td>NaN</td>\n",
       "      <td>NaN</td>\n",
       "      <td>0</td>\n",
       "      <td>NaN</td>\n",
       "      <td>0</td>\n",
       "      <td>0</td>\n",
       "      <td>0</td>\n",
       "      <td>0</td>\n",
       "      <td>0</td>\n",
       "    </tr>\n",
       "  </tbody>\n",
       "</table>\n",
       "</div>"
      ],
      "text/plain": [
       "    BsmtQual BsmtCond BsmtExposure BsmtFinType1  BsmtFinSF1 BsmtFinType2  \\\n",
       "Id                                                                         \n",
       "18       NaN      NaN          NaN          NaN           0          NaN   \n",
       "40       NaN      NaN          NaN          NaN           0          NaN   \n",
       "91       NaN      NaN          NaN          NaN           0          NaN   \n",
       "103      NaN      NaN          NaN          NaN           0          NaN   \n",
       "157      NaN      NaN          NaN          NaN           0          NaN   \n",
       "183      NaN      NaN          NaN          NaN           0          NaN   \n",
       "260      NaN      NaN          NaN          NaN           0          NaN   \n",
       "343      NaN      NaN          NaN          NaN           0          NaN   \n",
       "363      NaN      NaN          NaN          NaN           0          NaN   \n",
       "372      NaN      NaN          NaN          NaN           0          NaN   \n",
       "\n",
       "     BsmtFinSF2  BsmtUnfSF  TotalBsmtSF  BsmtFullBath  BsmtHalfBath  \n",
       "Id                                                                   \n",
       "18            0          0            0             0             0  \n",
       "40            0          0            0             0             0  \n",
       "91            0          0            0             0             0  \n",
       "103           0          0            0             0             0  \n",
       "157           0          0            0             0             0  \n",
       "183           0          0            0             0             0  \n",
       "260           0          0            0             0             0  \n",
       "343           0          0            0             0             0  \n",
       "363           0          0            0             0             0  \n",
       "372           0          0            0             0             0  "
      ]
     },
     "execution_count": 29,
     "metadata": {},
     "output_type": "execute_result"
    }
   ],
   "source": [
    "df.loc[df[basement[0]].isna(),basement].head(10) # view the basement variables with missing values"
   ]
  },
  {
   "cell_type": "code",
   "execution_count": 30,
   "metadata": {},
   "outputs": [
    {
     "name": "stdout",
     "output_type": "stream",
     "text": [
      "BsmtQual: Evaluates the height of the basement\n",
      "\n",
      "       Ex\tExcellent (100+ inches)\t\n",
      "       Gd\tGood (90-99 inches)\n",
      "       TA\tTypical (80-89 inches)\n",
      "       Fa\tFair (70-79 inches)\n",
      "       Po\tPoor (<70 inches\n",
      "       NA\tNo Basement\n",
      "\t\t\n",
      "BsmtCond: Evaluates the general condition of the basement\n",
      "\n",
      "       Ex\tExcellent\n",
      "       Gd\tGood\n",
      "       TA\tTypical - slight dampness allowed\n",
      "       Fa\tFair - dampness or some cracking or settling\n",
      "       Po\tPoor - Severe cracking, settling, or wetness\n",
      "       NA\tNo Basement\n",
      "\t\n",
      "BsmtExposure: Refers to walkout or garden level walls\n",
      "\n",
      "       Gd\tGood Exposure\n",
      "       Av\tAverage Exposure (split levels or foyers typically score average or above)\t\n",
      "       Mn\tMimimum Exposure\n",
      "       No\tNo Exposure\n",
      "       NA\tNo Basement\n",
      "\t\n",
      "BsmtFinType1: Rating of basement finished area\n",
      "\n",
      "       GLQ\tGood Living Quarters\n",
      "       ALQ\tAverage Living Quarters\n",
      "       BLQ\tBelow Average Living Quarters\t\n",
      "       Rec\tAverage Rec Room\n",
      "       LwQ\tLow Quality\n",
      "       Unf\tUnfinshed\n",
      "       NA\tNo Basement\n",
      "\t\t\n",
      "BsmtFinSF1: Type 1 finished square feet\n",
      "\n",
      "BsmtFinType2: Rating of basement finished area (if multiple types)\n",
      "\n",
      "       GLQ\tGood Living Quarters\n",
      "       ALQ\tAverage Living Quarters\n",
      "       BLQ\tBelow Average Living Quarters\t\n",
      "       Rec\tAverage Rec Room\n",
      "       LwQ\tLow Quality\n",
      "       Unf\tUnfinshed\n",
      "       NA\tNo Basement\n",
      "\n",
      "BsmtFinSF2: Type 2 finished square feet\n",
      "\n",
      "BsmtUnfSF: Unfinished square feet of basement area\n",
      "\n",
      "TotalBsmtSF: Total square feet of basement area\n",
      "\n",
      "BsmtFullBath: Basement full bathrooms\n",
      "\n",
      "BsmtHalfBath: Basement half bathrooms\n",
      "\n"
     ]
    }
   ],
   "source": [
    "for col in basement:\n",
    "    get_instruction(col)"
   ]
  },
  {
   "cell_type": "markdown",
   "metadata": {},
   "source": [
    "Again, NA on basement variables are not missing values, we can also see that the observation that has NA on one of the basement variable is also NA on the other basement variables. However, we have another problem, there are 37 NA values in BsmtQual and 38 NA values in BsmtExposure and BsmtFinType2"
   ]
  },
  {
   "cell_type": "code",
   "execution_count": 31,
   "metadata": {},
   "outputs": [
    {
     "data": {
      "text/html": [
       "<div>\n",
       "<style scoped>\n",
       "    .dataframe tbody tr th:only-of-type {\n",
       "        vertical-align: middle;\n",
       "    }\n",
       "\n",
       "    .dataframe tbody tr th {\n",
       "        vertical-align: top;\n",
       "    }\n",
       "\n",
       "    .dataframe thead th {\n",
       "        text-align: right;\n",
       "    }\n",
       "</style>\n",
       "<table border=\"1\" class=\"dataframe\">\n",
       "  <thead>\n",
       "    <tr style=\"text-align: right;\">\n",
       "      <th></th>\n",
       "      <th>BsmtQual</th>\n",
       "      <th>BsmtCond</th>\n",
       "      <th>BsmtExposure</th>\n",
       "      <th>BsmtFinType1</th>\n",
       "      <th>BsmtFinSF1</th>\n",
       "      <th>BsmtFinType2</th>\n",
       "      <th>BsmtFinSF2</th>\n",
       "      <th>BsmtUnfSF</th>\n",
       "      <th>TotalBsmtSF</th>\n",
       "      <th>BsmtFullBath</th>\n",
       "      <th>BsmtHalfBath</th>\n",
       "    </tr>\n",
       "    <tr>\n",
       "      <th>Id</th>\n",
       "      <th></th>\n",
       "      <th></th>\n",
       "      <th></th>\n",
       "      <th></th>\n",
       "      <th></th>\n",
       "      <th></th>\n",
       "      <th></th>\n",
       "      <th></th>\n",
       "      <th></th>\n",
       "      <th></th>\n",
       "      <th></th>\n",
       "    </tr>\n",
       "  </thead>\n",
       "  <tbody>\n",
       "    <tr>\n",
       "      <th>949</th>\n",
       "      <td>Gd</td>\n",
       "      <td>TA</td>\n",
       "      <td>NaN</td>\n",
       "      <td>Unf</td>\n",
       "      <td>0</td>\n",
       "      <td>Unf</td>\n",
       "      <td>0</td>\n",
       "      <td>936</td>\n",
       "      <td>936</td>\n",
       "      <td>0</td>\n",
       "      <td>0</td>\n",
       "    </tr>\n",
       "  </tbody>\n",
       "</table>\n",
       "</div>"
      ],
      "text/plain": [
       "    BsmtQual BsmtCond BsmtExposure BsmtFinType1  BsmtFinSF1 BsmtFinType2  \\\n",
       "Id                                                                         \n",
       "949       Gd       TA          NaN          Unf           0          Unf   \n",
       "\n",
       "     BsmtFinSF2  BsmtUnfSF  TotalBsmtSF  BsmtFullBath  BsmtHalfBath  \n",
       "Id                                                                   \n",
       "949           0        936          936             0             0  "
      ]
     },
     "execution_count": 31,
     "metadata": {},
     "output_type": "execute_result"
    }
   ],
   "source": [
    "# find NaN on BsmtExposure but not on BsmtQual\n",
    "falacy_1 = (df[\"BsmtQual\"].isna() == False) & (df[\"BsmtExposure\"].isna())\n",
    "df.loc[falacy_1,basement]"
   ]
  },
  {
   "cell_type": "code",
   "execution_count": 32,
   "metadata": {},
   "outputs": [
    {
     "data": {
      "text/html": [
       "<div>\n",
       "<style scoped>\n",
       "    .dataframe tbody tr th:only-of-type {\n",
       "        vertical-align: middle;\n",
       "    }\n",
       "\n",
       "    .dataframe tbody tr th {\n",
       "        vertical-align: top;\n",
       "    }\n",
       "\n",
       "    .dataframe thead th {\n",
       "        text-align: right;\n",
       "    }\n",
       "</style>\n",
       "<table border=\"1\" class=\"dataframe\">\n",
       "  <thead>\n",
       "    <tr style=\"text-align: right;\">\n",
       "      <th></th>\n",
       "      <th>BsmtQual</th>\n",
       "      <th>BsmtCond</th>\n",
       "      <th>BsmtExposure</th>\n",
       "      <th>BsmtFinType1</th>\n",
       "      <th>BsmtFinSF1</th>\n",
       "      <th>BsmtFinType2</th>\n",
       "      <th>BsmtFinSF2</th>\n",
       "      <th>BsmtUnfSF</th>\n",
       "      <th>TotalBsmtSF</th>\n",
       "      <th>BsmtFullBath</th>\n",
       "      <th>BsmtHalfBath</th>\n",
       "    </tr>\n",
       "    <tr>\n",
       "      <th>Id</th>\n",
       "      <th></th>\n",
       "      <th></th>\n",
       "      <th></th>\n",
       "      <th></th>\n",
       "      <th></th>\n",
       "      <th></th>\n",
       "      <th></th>\n",
       "      <th></th>\n",
       "      <th></th>\n",
       "      <th></th>\n",
       "      <th></th>\n",
       "    </tr>\n",
       "  </thead>\n",
       "  <tbody>\n",
       "    <tr>\n",
       "      <th>333</th>\n",
       "      <td>Gd</td>\n",
       "      <td>TA</td>\n",
       "      <td>No</td>\n",
       "      <td>GLQ</td>\n",
       "      <td>1124</td>\n",
       "      <td>NaN</td>\n",
       "      <td>479</td>\n",
       "      <td>1603</td>\n",
       "      <td>3206</td>\n",
       "      <td>1</td>\n",
       "      <td>0</td>\n",
       "    </tr>\n",
       "  </tbody>\n",
       "</table>\n",
       "</div>"
      ],
      "text/plain": [
       "    BsmtQual BsmtCond BsmtExposure BsmtFinType1  BsmtFinSF1 BsmtFinType2  \\\n",
       "Id                                                                         \n",
       "333       Gd       TA           No          GLQ        1124          NaN   \n",
       "\n",
       "     BsmtFinSF2  BsmtUnfSF  TotalBsmtSF  BsmtFullBath  BsmtHalfBath  \n",
       "Id                                                                   \n",
       "333         479       1603         3206             1             0  "
      ]
     },
     "execution_count": 32,
     "metadata": {},
     "output_type": "execute_result"
    }
   ],
   "source": [
    "# find NaN on BsmtFinType2 but not on BsmtQual\n",
    "falacy_2 = (df[\"BsmtQual\"].isna() == False) & (df[\"BsmtFinType2\"].isna())\n",
    "df.loc[falacy_2,basement]"
   ]
  },
  {
   "cell_type": "markdown",
   "metadata": {},
   "source": [
    "Since NA means no basement, These two observations are wrong. BmstQual says that the basement is good but BsmtExposure says no basement on falacy 1 and BmstFinType2 says no basement on falacy 2. One solution is to drop these observations since there are only 2 observations"
   ]
  },
  {
   "cell_type": "code",
   "execution_count": 33,
   "metadata": {},
   "outputs": [],
   "source": [
    "df = df.loc[(falacy_1 == False) & (falacy_2 == False), :]"
   ]
  },
  {
   "cell_type": "markdown",
   "metadata": {},
   "source": [
    "Then we can change NaN values of the basement variables by string \"NA\""
   ]
  },
  {
   "cell_type": "code",
   "execution_count": 34,
   "metadata": {
    "scrolled": true
   },
   "outputs": [
    {
     "data": {
      "text/plain": [
       "TA    649\n",
       "Gd    615\n",
       "Ex    121\n",
       "Fa     35\n",
       "Name: BsmtQual, dtype: int64"
      ]
     },
     "execution_count": 34,
     "metadata": {},
     "output_type": "execute_result"
    }
   ],
   "source": [
    "df[\"BsmtQual\"].value_counts()"
   ]
  },
  {
   "cell_type": "code",
   "execution_count": 35,
   "metadata": {},
   "outputs": [],
   "source": [
    "df.loc[df[\"BsmtQual\"].isna(), [\"BsmtQual\", \"BsmtCond\", \"BsmtExposure\", \"BsmtFinType1\", \"BsmtFinType2\"]] = \"NA\""
   ]
  },
  {
   "cell_type": "code",
   "execution_count": 36,
   "metadata": {
    "scrolled": true
   },
   "outputs": [
    {
     "data": {
      "text/plain": [
       "TA    649\n",
       "Gd    615\n",
       "Ex    121\n",
       "NA     37\n",
       "Fa     35\n",
       "Name: BsmtQual, dtype: int64"
      ]
     },
     "execution_count": 36,
     "metadata": {},
     "output_type": "execute_result"
    }
   ],
   "source": [
    "df[\"BsmtQual\"].value_counts()"
   ]
  },
  {
   "cell_type": "markdown",
   "metadata": {},
   "source": [
    "##### Alley and Fireplace"
   ]
  },
  {
   "cell_type": "code",
   "execution_count": 37,
   "metadata": {},
   "outputs": [
    {
     "data": {
      "text/html": [
       "<div>\n",
       "<style scoped>\n",
       "    .dataframe tbody tr th:only-of-type {\n",
       "        vertical-align: middle;\n",
       "    }\n",
       "\n",
       "    .dataframe tbody tr th {\n",
       "        vertical-align: top;\n",
       "    }\n",
       "\n",
       "    .dataframe thead th {\n",
       "        text-align: right;\n",
       "    }\n",
       "</style>\n",
       "<table border=\"1\" class=\"dataframe\">\n",
       "  <thead>\n",
       "    <tr style=\"text-align: right;\">\n",
       "      <th></th>\n",
       "      <th>Missing</th>\n",
       "    </tr>\n",
       "  </thead>\n",
       "  <tbody>\n",
       "    <tr>\n",
       "      <th>MasVnrType</th>\n",
       "      <td>8</td>\n",
       "    </tr>\n",
       "    <tr>\n",
       "      <th>MasVnrArea</th>\n",
       "      <td>8</td>\n",
       "    </tr>\n",
       "    <tr>\n",
       "      <th>LotFrontage</th>\n",
       "      <td>259</td>\n",
       "    </tr>\n",
       "    <tr>\n",
       "      <th>FireplaceQu</th>\n",
       "      <td>689</td>\n",
       "    </tr>\n",
       "    <tr>\n",
       "      <th>Fence</th>\n",
       "      <td>1176</td>\n",
       "    </tr>\n",
       "    <tr>\n",
       "      <th>Alley</th>\n",
       "      <td>1366</td>\n",
       "    </tr>\n",
       "    <tr>\n",
       "      <th>MiscFeature</th>\n",
       "      <td>1403</td>\n",
       "    </tr>\n",
       "    <tr>\n",
       "      <th>PoolQC</th>\n",
       "      <td>1450</td>\n",
       "    </tr>\n",
       "  </tbody>\n",
       "</table>\n",
       "</div>"
      ],
      "text/plain": [
       "             Missing\n",
       "MasVnrType         8\n",
       "MasVnrArea         8\n",
       "LotFrontage      259\n",
       "FireplaceQu      689\n",
       "Fence           1176\n",
       "Alley           1366\n",
       "MiscFeature     1403\n",
       "PoolQC          1450"
      ]
     },
     "execution_count": 37,
     "metadata": {},
     "output_type": "execute_result"
    }
   ],
   "source": [
    "var_missing()"
   ]
  },
  {
   "cell_type": "code",
   "execution_count": 38,
   "metadata": {},
   "outputs": [],
   "source": [
    "variable_na = [\"Alley\", \"FireplaceQu\", \"PoolQC\", \"Fence\", \"MiscFeature\"]"
   ]
  },
  {
   "cell_type": "code",
   "execution_count": 39,
   "metadata": {},
   "outputs": [],
   "source": [
    "for variab in variable_na:\n",
    "#     get_instruction(variab)\n",
    "#     print(\"Value count before : \")\n",
    "#     print(df[variab].value_counts())\n",
    "#     print()\n",
    "#     print(\"Fill missing values with NA\")\n",
    "    df.loc[df[variab].isna(),variab] = df.loc[df[variab].isna(),variab].fillna(\"NA\")\n",
    "#     print()\n",
    "#     print(\"Value count after : \")\n",
    "#     print(df[variab].value_counts())"
   ]
  },
  {
   "cell_type": "code",
   "execution_count": 40,
   "metadata": {},
   "outputs": [
    {
     "data": {
      "text/html": [
       "<div>\n",
       "<style scoped>\n",
       "    .dataframe tbody tr th:only-of-type {\n",
       "        vertical-align: middle;\n",
       "    }\n",
       "\n",
       "    .dataframe tbody tr th {\n",
       "        vertical-align: top;\n",
       "    }\n",
       "\n",
       "    .dataframe thead th {\n",
       "        text-align: right;\n",
       "    }\n",
       "</style>\n",
       "<table border=\"1\" class=\"dataframe\">\n",
       "  <thead>\n",
       "    <tr style=\"text-align: right;\">\n",
       "      <th></th>\n",
       "      <th>Missing</th>\n",
       "    </tr>\n",
       "  </thead>\n",
       "  <tbody>\n",
       "    <tr>\n",
       "      <th>MasVnrType</th>\n",
       "      <td>8</td>\n",
       "    </tr>\n",
       "    <tr>\n",
       "      <th>MasVnrArea</th>\n",
       "      <td>8</td>\n",
       "    </tr>\n",
       "    <tr>\n",
       "      <th>LotFrontage</th>\n",
       "      <td>259</td>\n",
       "    </tr>\n",
       "  </tbody>\n",
       "</table>\n",
       "</div>"
      ],
      "text/plain": [
       "             Missing\n",
       "MasVnrType         8\n",
       "MasVnrArea         8\n",
       "LotFrontage      259"
      ]
     },
     "execution_count": 40,
     "metadata": {},
     "output_type": "execute_result"
    }
   ],
   "source": [
    "var_missing()"
   ]
  },
  {
   "cell_type": "markdown",
   "metadata": {},
   "source": [
    "### Last part"
   ]
  },
  {
   "cell_type": "markdown",
   "metadata": {},
   "source": [
    "From here, the last 3 variables that have NaN can be treated arbitrarily. Here I use mean imputation for the Lot Frontage and MasVnrArea and make new category NA for MasVnrType"
   ]
  },
  {
   "cell_type": "code",
   "execution_count": 41,
   "metadata": {},
   "outputs": [],
   "source": [
    "df.loc[df[\"LotFrontage\"].isna(), \"LotFrontage\"] = df[\"LotFrontage\"].mean()"
   ]
  },
  {
   "cell_type": "code",
   "execution_count": 42,
   "metadata": {},
   "outputs": [],
   "source": [
    "df.loc[df[\"MasVnrArea\"].isna(), \"MasVnrArea\"] = 0"
   ]
  },
  {
   "cell_type": "code",
   "execution_count": 43,
   "metadata": {},
   "outputs": [],
   "source": [
    "df.loc[df[\"MasVnrType\"].isna(), \"MasVnrType\"] = \"NA\""
   ]
  },
  {
   "cell_type": "code",
   "execution_count": 44,
   "metadata": {
    "scrolled": true
   },
   "outputs": [
    {
     "data": {
      "text/html": [
       "<div>\n",
       "<style scoped>\n",
       "    .dataframe tbody tr th:only-of-type {\n",
       "        vertical-align: middle;\n",
       "    }\n",
       "\n",
       "    .dataframe tbody tr th {\n",
       "        vertical-align: top;\n",
       "    }\n",
       "\n",
       "    .dataframe thead th {\n",
       "        text-align: right;\n",
       "    }\n",
       "</style>\n",
       "<table border=\"1\" class=\"dataframe\">\n",
       "  <thead>\n",
       "    <tr style=\"text-align: right;\">\n",
       "      <th></th>\n",
       "      <th>Missing</th>\n",
       "    </tr>\n",
       "  </thead>\n",
       "  <tbody>\n",
       "  </tbody>\n",
       "</table>\n",
       "</div>"
      ],
      "text/plain": [
       "Empty DataFrame\n",
       "Columns: [Missing]\n",
       "Index: []"
      ]
     },
     "execution_count": 44,
     "metadata": {},
     "output_type": "execute_result"
    }
   ],
   "source": [
    "var_missing()"
   ]
  },
  {
   "cell_type": "markdown",
   "metadata": {},
   "source": [
    "No more missing value problem"
   ]
  },
  {
   "cell_type": "markdown",
   "metadata": {},
   "source": [
    "## Change data type"
   ]
  },
  {
   "cell_type": "code",
   "execution_count": 45,
   "metadata": {},
   "outputs": [],
   "source": [
    "type_cols = [\"category\", \"category\", \"float64\", \"int64\", \"category\", \"category\", \"category\", \"category\",\n",
    "             \"category\", \"category\", \"category\", \"category\", \"category\", \"category\", \"category\", \"category\",\n",
    "             \"category\", \"category\", \"int64\", \"int64\", \"category\", \"category\", \"category\", \"category\",\n",
    "            \"category\", \"float64\", \"category\", \"category\", \"category\", \"category\", \"category\", \"category\",\n",
    "            \"category\", \"int64\", \"category\", \"int64\", \"int64\", \"int64\", \"category\", \"category\", \"category\",\n",
    "             \"category\", \"int64\", \"int64\", \"int64\", \"int64\", \"int64\", \"int64\", \"int64\", \"int64\", \"int64\",\n",
    "             \"int64\", \"category\", \"int64\", \"category\", \"int64\", \"category\", \"category\", \"int64\", \"category\",\n",
    "             \"int64\", \"int64\", \"category\", \"category\", \"category\", \"int64\", \"int64\", \"int64\", \"int64\",\n",
    "             \"int64\", \"int64\", \"category\", \"category\", \"category\", \"int64\", \"int64\", \"int64\", \"category\",\n",
    "             \"category\", \"int64\"]\n",
    "type_cols = zip(df.columns, type_cols)"
   ]
  },
  {
   "cell_type": "code",
   "execution_count": 46,
   "metadata": {},
   "outputs": [],
   "source": [
    "for col, dtypee in type_cols:\n",
    "    df[col] = df[col].astype(dtypee)"
   ]
  },
  {
   "cell_type": "code",
   "execution_count": null,
   "metadata": {},
   "outputs": [],
   "source": []
  }
 ],
 "metadata": {
  "kernelspec": {
   "display_name": "Python 3",
   "language": "python",
   "name": "python3"
  },
  "language_info": {
   "codemirror_mode": {
    "name": "ipython",
    "version": 3
   },
   "file_extension": ".py",
   "mimetype": "text/x-python",
   "name": "python",
   "nbconvert_exporter": "python",
   "pygments_lexer": "ipython3",
   "version": "3.7.4"
  }
 },
 "nbformat": 4,
 "nbformat_minor": 2
}
